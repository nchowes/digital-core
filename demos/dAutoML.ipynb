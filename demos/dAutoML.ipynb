{
 "cells": [
  {
   "cell_type": "markdown",
   "metadata": {},
   "source": [
    "# Minalyze: Geochemistry\n",
    "\n",
    "## Unsupervised segmentation w/ automated ML "
   ]
  },
  {
   "cell_type": "code",
   "execution_count": 1,
   "metadata": {},
   "outputs": [],
   "source": [
    "from pycaret.clustering import *\n",
    "from sklearn.neighbors import kneighbors_graph"
   ]
  },
  {
   "cell_type": "code",
   "execution_count": 2,
   "metadata": {},
   "outputs": [],
   "source": [
    "def get_variables(df):\n",
    "    \"\"\"List all variables\"\"\"\n",
    "    value = list( df.columns )\n",
    "    return value\n",
    "\n",
    "def get_ignorefeatures(df):\n",
    "    \"\"\"List all ignored features\"\"\"\n",
    "    value = [\n",
    "        'id', \n",
    "        'result_master_id',\n",
    "        'DDH_name',\n",
    "        'from_m',\n",
    "        'to_m',\n",
    "        'Sample_Length_m',\n",
    "        'Scan_Length_m',\n",
    "        'Scan_Recovery_pct',\n",
    "        'Comp(c/s)', \n",
    "        'Rayl(c/s)', \n",
    "        'LT(secs)',\n",
    "        'minaloggerlink']\n",
    "    additional = (\n",
    "        [s for i, s in enumerate(get_variables(df)) if \"mdl\" in s] +\n",
    "        [s for i, s in enumerate(get_variables(df)) if \"2SE\" in s]\n",
    "        )\n",
    "    value = value + additional\n",
    "    return value"
   ]
  },
  {
   "cell_type": "code",
   "execution_count": 3,
   "metadata": {},
   "outputs": [],
   "source": [
    "filepath   = '../data/OOLDEA2_1m_intervals.csv'\n",
    "data = pd.read_csv( filepath )"
   ]
  },
  {
   "cell_type": "code",
   "execution_count": 4,
   "metadata": {},
   "outputs": [
    {
     "data": {
      "text/html": [
       "<style type=\"text/css\">\n",
       "#T_41449_row21_col1 {\n",
       "  background-color: lightgreen;\n",
       "}\n",
       "</style>\n",
       "<table id=\"T_41449_\">\n",
       "  <thead>\n",
       "    <tr>\n",
       "      <th class=\"blank level0\" >&nbsp;</th>\n",
       "      <th class=\"col_heading level0 col0\" >Description</th>\n",
       "      <th class=\"col_heading level0 col1\" >Value</th>\n",
       "    </tr>\n",
       "  </thead>\n",
       "  <tbody>\n",
       "    <tr>\n",
       "      <th id=\"T_41449_level0_row0\" class=\"row_heading level0 row0\" >0</th>\n",
       "      <td id=\"T_41449_row0_col0\" class=\"data row0 col0\" >session_id</td>\n",
       "      <td id=\"T_41449_row0_col1\" class=\"data row0 col1\" >123</td>\n",
       "    </tr>\n",
       "    <tr>\n",
       "      <th id=\"T_41449_level0_row1\" class=\"row_heading level0 row1\" >1</th>\n",
       "      <td id=\"T_41449_row1_col0\" class=\"data row1 col0\" >Original Data</td>\n",
       "      <td id=\"T_41449_row1_col1\" class=\"data row1 col1\" >(156, 99)</td>\n",
       "    </tr>\n",
       "    <tr>\n",
       "      <th id=\"T_41449_level0_row2\" class=\"row_heading level0 row2\" >2</th>\n",
       "      <td id=\"T_41449_row2_col0\" class=\"data row2 col0\" >Missing Values</td>\n",
       "      <td id=\"T_41449_row2_col1\" class=\"data row2 col1\" >False</td>\n",
       "    </tr>\n",
       "    <tr>\n",
       "      <th id=\"T_41449_level0_row3\" class=\"row_heading level0 row3\" >3</th>\n",
       "      <td id=\"T_41449_row3_col0\" class=\"data row3 col0\" >Numeric Features</td>\n",
       "      <td id=\"T_41449_row3_col1\" class=\"data row3 col1\" >27</td>\n",
       "    </tr>\n",
       "    <tr>\n",
       "      <th id=\"T_41449_level0_row4\" class=\"row_heading level0 row4\" >4</th>\n",
       "      <td id=\"T_41449_row4_col0\" class=\"data row4 col0\" >Categorical Features</td>\n",
       "      <td id=\"T_41449_row4_col1\" class=\"data row4 col1\" >2</td>\n",
       "    </tr>\n",
       "    <tr>\n",
       "      <th id=\"T_41449_level0_row5\" class=\"row_heading level0 row5\" >5</th>\n",
       "      <td id=\"T_41449_row5_col0\" class=\"data row5 col0\" >Ordinal Features</td>\n",
       "      <td id=\"T_41449_row5_col1\" class=\"data row5 col1\" >False</td>\n",
       "    </tr>\n",
       "    <tr>\n",
       "      <th id=\"T_41449_level0_row6\" class=\"row_heading level0 row6\" >6</th>\n",
       "      <td id=\"T_41449_row6_col0\" class=\"data row6 col0\" >High Cardinality Features</td>\n",
       "      <td id=\"T_41449_row6_col1\" class=\"data row6 col1\" >False</td>\n",
       "    </tr>\n",
       "    <tr>\n",
       "      <th id=\"T_41449_level0_row7\" class=\"row_heading level0 row7\" >7</th>\n",
       "      <td id=\"T_41449_row7_col0\" class=\"data row7 col0\" >High Cardinality Method</td>\n",
       "      <td id=\"T_41449_row7_col1\" class=\"data row7 col1\" >None</td>\n",
       "    </tr>\n",
       "    <tr>\n",
       "      <th id=\"T_41449_level0_row8\" class=\"row_heading level0 row8\" >8</th>\n",
       "      <td id=\"T_41449_row8_col0\" class=\"data row8 col0\" >Transformed Data</td>\n",
       "      <td id=\"T_41449_row8_col1\" class=\"data row8 col1\" >(156, 29)</td>\n",
       "    </tr>\n",
       "    <tr>\n",
       "      <th id=\"T_41449_level0_row9\" class=\"row_heading level0 row9\" >9</th>\n",
       "      <td id=\"T_41449_row9_col0\" class=\"data row9 col0\" >CPU Jobs</td>\n",
       "      <td id=\"T_41449_row9_col1\" class=\"data row9 col1\" >-1</td>\n",
       "    </tr>\n",
       "    <tr>\n",
       "      <th id=\"T_41449_level0_row10\" class=\"row_heading level0 row10\" >10</th>\n",
       "      <td id=\"T_41449_row10_col0\" class=\"data row10 col0\" >Use GPU</td>\n",
       "      <td id=\"T_41449_row10_col1\" class=\"data row10 col1\" >False</td>\n",
       "    </tr>\n",
       "    <tr>\n",
       "      <th id=\"T_41449_level0_row11\" class=\"row_heading level0 row11\" >11</th>\n",
       "      <td id=\"T_41449_row11_col0\" class=\"data row11 col0\" >Log Experiment</td>\n",
       "      <td id=\"T_41449_row11_col1\" class=\"data row11 col1\" >False</td>\n",
       "    </tr>\n",
       "    <tr>\n",
       "      <th id=\"T_41449_level0_row12\" class=\"row_heading level0 row12\" >12</th>\n",
       "      <td id=\"T_41449_row12_col0\" class=\"data row12 col0\" >Experiment Name</td>\n",
       "      <td id=\"T_41449_row12_col1\" class=\"data row12 col1\" >cluster-default-name</td>\n",
       "    </tr>\n",
       "    <tr>\n",
       "      <th id=\"T_41449_level0_row13\" class=\"row_heading level0 row13\" >13</th>\n",
       "      <td id=\"T_41449_row13_col0\" class=\"data row13 col0\" >USI</td>\n",
       "      <td id=\"T_41449_row13_col1\" class=\"data row13 col1\" >3243</td>\n",
       "    </tr>\n",
       "    <tr>\n",
       "      <th id=\"T_41449_level0_row14\" class=\"row_heading level0 row14\" >14</th>\n",
       "      <td id=\"T_41449_row14_col0\" class=\"data row14 col0\" >Imputation Type</td>\n",
       "      <td id=\"T_41449_row14_col1\" class=\"data row14 col1\" >simple</td>\n",
       "    </tr>\n",
       "    <tr>\n",
       "      <th id=\"T_41449_level0_row15\" class=\"row_heading level0 row15\" >15</th>\n",
       "      <td id=\"T_41449_row15_col0\" class=\"data row15 col0\" >Iterative Imputation Iteration</td>\n",
       "      <td id=\"T_41449_row15_col1\" class=\"data row15 col1\" >None</td>\n",
       "    </tr>\n",
       "    <tr>\n",
       "      <th id=\"T_41449_level0_row16\" class=\"row_heading level0 row16\" >16</th>\n",
       "      <td id=\"T_41449_row16_col0\" class=\"data row16 col0\" >Numeric Imputer</td>\n",
       "      <td id=\"T_41449_row16_col1\" class=\"data row16 col1\" >mean</td>\n",
       "    </tr>\n",
       "    <tr>\n",
       "      <th id=\"T_41449_level0_row17\" class=\"row_heading level0 row17\" >17</th>\n",
       "      <td id=\"T_41449_row17_col0\" class=\"data row17 col0\" >Iterative Imputation Numeric Model</td>\n",
       "      <td id=\"T_41449_row17_col1\" class=\"data row17 col1\" >None</td>\n",
       "    </tr>\n",
       "    <tr>\n",
       "      <th id=\"T_41449_level0_row18\" class=\"row_heading level0 row18\" >18</th>\n",
       "      <td id=\"T_41449_row18_col0\" class=\"data row18 col0\" >Categorical Imputer</td>\n",
       "      <td id=\"T_41449_row18_col1\" class=\"data row18 col1\" >mode</td>\n",
       "    </tr>\n",
       "    <tr>\n",
       "      <th id=\"T_41449_level0_row19\" class=\"row_heading level0 row19\" >19</th>\n",
       "      <td id=\"T_41449_row19_col0\" class=\"data row19 col0\" >Iterative Imputation Categorical Model</td>\n",
       "      <td id=\"T_41449_row19_col1\" class=\"data row19 col1\" >None</td>\n",
       "    </tr>\n",
       "    <tr>\n",
       "      <th id=\"T_41449_level0_row20\" class=\"row_heading level0 row20\" >20</th>\n",
       "      <td id=\"T_41449_row20_col0\" class=\"data row20 col0\" >Unknown Categoricals Handling</td>\n",
       "      <td id=\"T_41449_row20_col1\" class=\"data row20 col1\" >least_frequent</td>\n",
       "    </tr>\n",
       "    <tr>\n",
       "      <th id=\"T_41449_level0_row21\" class=\"row_heading level0 row21\" >21</th>\n",
       "      <td id=\"T_41449_row21_col0\" class=\"data row21 col0\" >Normalize</td>\n",
       "      <td id=\"T_41449_row21_col1\" class=\"data row21 col1\" >True</td>\n",
       "    </tr>\n",
       "    <tr>\n",
       "      <th id=\"T_41449_level0_row22\" class=\"row_heading level0 row22\" >22</th>\n",
       "      <td id=\"T_41449_row22_col0\" class=\"data row22 col0\" >Normalize Method</td>\n",
       "      <td id=\"T_41449_row22_col1\" class=\"data row22 col1\" >zscore</td>\n",
       "    </tr>\n",
       "    <tr>\n",
       "      <th id=\"T_41449_level0_row23\" class=\"row_heading level0 row23\" >23</th>\n",
       "      <td id=\"T_41449_row23_col0\" class=\"data row23 col0\" >Transformation</td>\n",
       "      <td id=\"T_41449_row23_col1\" class=\"data row23 col1\" >False</td>\n",
       "    </tr>\n",
       "    <tr>\n",
       "      <th id=\"T_41449_level0_row24\" class=\"row_heading level0 row24\" >24</th>\n",
       "      <td id=\"T_41449_row24_col0\" class=\"data row24 col0\" >Transformation Method</td>\n",
       "      <td id=\"T_41449_row24_col1\" class=\"data row24 col1\" >None</td>\n",
       "    </tr>\n",
       "    <tr>\n",
       "      <th id=\"T_41449_level0_row25\" class=\"row_heading level0 row25\" >25</th>\n",
       "      <td id=\"T_41449_row25_col0\" class=\"data row25 col0\" >PCA</td>\n",
       "      <td id=\"T_41449_row25_col1\" class=\"data row25 col1\" >False</td>\n",
       "    </tr>\n",
       "    <tr>\n",
       "      <th id=\"T_41449_level0_row26\" class=\"row_heading level0 row26\" >26</th>\n",
       "      <td id=\"T_41449_row26_col0\" class=\"data row26 col0\" >PCA Method</td>\n",
       "      <td id=\"T_41449_row26_col1\" class=\"data row26 col1\" >None</td>\n",
       "    </tr>\n",
       "    <tr>\n",
       "      <th id=\"T_41449_level0_row27\" class=\"row_heading level0 row27\" >27</th>\n",
       "      <td id=\"T_41449_row27_col0\" class=\"data row27 col0\" >PCA Components</td>\n",
       "      <td id=\"T_41449_row27_col1\" class=\"data row27 col1\" >None</td>\n",
       "    </tr>\n",
       "    <tr>\n",
       "      <th id=\"T_41449_level0_row28\" class=\"row_heading level0 row28\" >28</th>\n",
       "      <td id=\"T_41449_row28_col0\" class=\"data row28 col0\" >Ignore Low Variance</td>\n",
       "      <td id=\"T_41449_row28_col1\" class=\"data row28 col1\" >False</td>\n",
       "    </tr>\n",
       "    <tr>\n",
       "      <th id=\"T_41449_level0_row29\" class=\"row_heading level0 row29\" >29</th>\n",
       "      <td id=\"T_41449_row29_col0\" class=\"data row29 col0\" >Combine Rare Levels</td>\n",
       "      <td id=\"T_41449_row29_col1\" class=\"data row29 col1\" >False</td>\n",
       "    </tr>\n",
       "    <tr>\n",
       "      <th id=\"T_41449_level0_row30\" class=\"row_heading level0 row30\" >30</th>\n",
       "      <td id=\"T_41449_row30_col0\" class=\"data row30 col0\" >Rare Level Threshold</td>\n",
       "      <td id=\"T_41449_row30_col1\" class=\"data row30 col1\" >None</td>\n",
       "    </tr>\n",
       "    <tr>\n",
       "      <th id=\"T_41449_level0_row31\" class=\"row_heading level0 row31\" >31</th>\n",
       "      <td id=\"T_41449_row31_col0\" class=\"data row31 col0\" >Numeric Binning</td>\n",
       "      <td id=\"T_41449_row31_col1\" class=\"data row31 col1\" >False</td>\n",
       "    </tr>\n",
       "    <tr>\n",
       "      <th id=\"T_41449_level0_row32\" class=\"row_heading level0 row32\" >32</th>\n",
       "      <td id=\"T_41449_row32_col0\" class=\"data row32 col0\" >Remove Outliers</td>\n",
       "      <td id=\"T_41449_row32_col1\" class=\"data row32 col1\" >False</td>\n",
       "    </tr>\n",
       "    <tr>\n",
       "      <th id=\"T_41449_level0_row33\" class=\"row_heading level0 row33\" >33</th>\n",
       "      <td id=\"T_41449_row33_col0\" class=\"data row33 col0\" >Outliers Threshold</td>\n",
       "      <td id=\"T_41449_row33_col1\" class=\"data row33 col1\" >None</td>\n",
       "    </tr>\n",
       "    <tr>\n",
       "      <th id=\"T_41449_level0_row34\" class=\"row_heading level0 row34\" >34</th>\n",
       "      <td id=\"T_41449_row34_col0\" class=\"data row34 col0\" >Remove Multicollinearity</td>\n",
       "      <td id=\"T_41449_row34_col1\" class=\"data row34 col1\" >False</td>\n",
       "    </tr>\n",
       "    <tr>\n",
       "      <th id=\"T_41449_level0_row35\" class=\"row_heading level0 row35\" >35</th>\n",
       "      <td id=\"T_41449_row35_col0\" class=\"data row35 col0\" >Multicollinearity Threshold</td>\n",
       "      <td id=\"T_41449_row35_col1\" class=\"data row35 col1\" >None</td>\n",
       "    </tr>\n",
       "    <tr>\n",
       "      <th id=\"T_41449_level0_row36\" class=\"row_heading level0 row36\" >36</th>\n",
       "      <td id=\"T_41449_row36_col0\" class=\"data row36 col0\" >Remove Perfect Collinearity</td>\n",
       "      <td id=\"T_41449_row36_col1\" class=\"data row36 col1\" >False</td>\n",
       "    </tr>\n",
       "    <tr>\n",
       "      <th id=\"T_41449_level0_row37\" class=\"row_heading level0 row37\" >37</th>\n",
       "      <td id=\"T_41449_row37_col0\" class=\"data row37 col0\" >Clustering</td>\n",
       "      <td id=\"T_41449_row37_col1\" class=\"data row37 col1\" >False</td>\n",
       "    </tr>\n",
       "    <tr>\n",
       "      <th id=\"T_41449_level0_row38\" class=\"row_heading level0 row38\" >38</th>\n",
       "      <td id=\"T_41449_row38_col0\" class=\"data row38 col0\" >Clustering Iteration</td>\n",
       "      <td id=\"T_41449_row38_col1\" class=\"data row38 col1\" >None</td>\n",
       "    </tr>\n",
       "    <tr>\n",
       "      <th id=\"T_41449_level0_row39\" class=\"row_heading level0 row39\" >39</th>\n",
       "      <td id=\"T_41449_row39_col0\" class=\"data row39 col0\" >Polynomial Features</td>\n",
       "      <td id=\"T_41449_row39_col1\" class=\"data row39 col1\" >False</td>\n",
       "    </tr>\n",
       "    <tr>\n",
       "      <th id=\"T_41449_level0_row40\" class=\"row_heading level0 row40\" >40</th>\n",
       "      <td id=\"T_41449_row40_col0\" class=\"data row40 col0\" >Polynomial Degree</td>\n",
       "      <td id=\"T_41449_row40_col1\" class=\"data row40 col1\" >None</td>\n",
       "    </tr>\n",
       "    <tr>\n",
       "      <th id=\"T_41449_level0_row41\" class=\"row_heading level0 row41\" >41</th>\n",
       "      <td id=\"T_41449_row41_col0\" class=\"data row41 col0\" >Trignometry Features</td>\n",
       "      <td id=\"T_41449_row41_col1\" class=\"data row41 col1\" >False</td>\n",
       "    </tr>\n",
       "    <tr>\n",
       "      <th id=\"T_41449_level0_row42\" class=\"row_heading level0 row42\" >42</th>\n",
       "      <td id=\"T_41449_row42_col0\" class=\"data row42 col0\" >Polynomial Threshold</td>\n",
       "      <td id=\"T_41449_row42_col1\" class=\"data row42 col1\" >None</td>\n",
       "    </tr>\n",
       "    <tr>\n",
       "      <th id=\"T_41449_level0_row43\" class=\"row_heading level0 row43\" >43</th>\n",
       "      <td id=\"T_41449_row43_col0\" class=\"data row43 col0\" >Group Features</td>\n",
       "      <td id=\"T_41449_row43_col1\" class=\"data row43 col1\" >False</td>\n",
       "    </tr>\n",
       "    <tr>\n",
       "      <th id=\"T_41449_level0_row44\" class=\"row_heading level0 row44\" >44</th>\n",
       "      <td id=\"T_41449_row44_col0\" class=\"data row44 col0\" >Feature Selection</td>\n",
       "      <td id=\"T_41449_row44_col1\" class=\"data row44 col1\" >False</td>\n",
       "    </tr>\n",
       "    <tr>\n",
       "      <th id=\"T_41449_level0_row45\" class=\"row_heading level0 row45\" >45</th>\n",
       "      <td id=\"T_41449_row45_col0\" class=\"data row45 col0\" >Feature Selection Method</td>\n",
       "      <td id=\"T_41449_row45_col1\" class=\"data row45 col1\" >classic</td>\n",
       "    </tr>\n",
       "    <tr>\n",
       "      <th id=\"T_41449_level0_row46\" class=\"row_heading level0 row46\" >46</th>\n",
       "      <td id=\"T_41449_row46_col0\" class=\"data row46 col0\" >Features Selection Threshold</td>\n",
       "      <td id=\"T_41449_row46_col1\" class=\"data row46 col1\" >None</td>\n",
       "    </tr>\n",
       "    <tr>\n",
       "      <th id=\"T_41449_level0_row47\" class=\"row_heading level0 row47\" >47</th>\n",
       "      <td id=\"T_41449_row47_col0\" class=\"data row47 col0\" >Feature Interaction</td>\n",
       "      <td id=\"T_41449_row47_col1\" class=\"data row47 col1\" >False</td>\n",
       "    </tr>\n",
       "    <tr>\n",
       "      <th id=\"T_41449_level0_row48\" class=\"row_heading level0 row48\" >48</th>\n",
       "      <td id=\"T_41449_row48_col0\" class=\"data row48 col0\" >Feature Ratio</td>\n",
       "      <td id=\"T_41449_row48_col1\" class=\"data row48 col1\" >False</td>\n",
       "    </tr>\n",
       "    <tr>\n",
       "      <th id=\"T_41449_level0_row49\" class=\"row_heading level0 row49\" >49</th>\n",
       "      <td id=\"T_41449_row49_col0\" class=\"data row49 col0\" >Interaction Threshold</td>\n",
       "      <td id=\"T_41449_row49_col1\" class=\"data row49 col1\" >None</td>\n",
       "    </tr>\n",
       "  </tbody>\n",
       "</table>\n"
      ],
      "text/plain": [
       "<pandas.io.formats.style.Styler at 0x7fab11182bb0>"
      ]
     },
     "metadata": {},
     "output_type": "display_data"
    }
   ],
   "source": [
    "exp = setup(data, normalize = True, \n",
    "    ignore_features = get_ignorefeatures(data),\n",
    "    session_id = 123, \n",
    "    silent = True, \n",
    "    pca = False)     "
   ]
  },
  {
   "cell_type": "code",
   "execution_count": 5,
   "metadata": {},
   "outputs": [
    {
     "data": {
      "text/html": [
       "<div>\n",
       "<style scoped>\n",
       "    .dataframe tbody tr th:only-of-type {\n",
       "        vertical-align: middle;\n",
       "    }\n",
       "\n",
       "    .dataframe tbody tr th {\n",
       "        vertical-align: top;\n",
       "    }\n",
       "\n",
       "    .dataframe thead th {\n",
       "        text-align: right;\n",
       "    }\n",
       "</style>\n",
       "<table border=\"1\" class=\"dataframe\">\n",
       "  <thead>\n",
       "    <tr style=\"text-align: right;\">\n",
       "      <th></th>\n",
       "      <th>Silhouette</th>\n",
       "      <th>Calinski-Harabasz</th>\n",
       "      <th>Davies-Bouldin</th>\n",
       "      <th>Homogeneity</th>\n",
       "      <th>Rand Index</th>\n",
       "      <th>Completeness</th>\n",
       "    </tr>\n",
       "  </thead>\n",
       "  <tbody>\n",
       "    <tr>\n",
       "      <th>0</th>\n",
       "      <td>0.1775</td>\n",
       "      <td>16.0526</td>\n",
       "      <td>1.865</td>\n",
       "      <td>0</td>\n",
       "      <td>0</td>\n",
       "      <td>0</td>\n",
       "    </tr>\n",
       "  </tbody>\n",
       "</table>\n",
       "</div>"
      ],
      "text/plain": [
       "   Silhouette  Calinski-Harabasz  Davies-Bouldin  Homogeneity  Rand Index  \\\n",
       "0      0.1775            16.0526           1.865            0           0   \n",
       "\n",
       "   Completeness  \n",
       "0             0  "
      ]
     },
     "metadata": {},
     "output_type": "display_data"
    }
   ],
   "source": [
    "modeltype = \"hclust\"\n",
    "\n",
    " # Connectivity constraint for hierarchical cluster \n",
    "depth_constraint = data[\"from_m\"].values.reshape(-1,1)\n",
    "connect = kneighbors_graph(depth_constraint, n_neighbors=2, include_self=False)\n",
    "\n",
    "constraints = { \"connectivity\": connect, \n",
    "    \"affinity\": 'euclidean', \n",
    "    \"linkage\": 'ward', \n",
    "    \"compute_full_tree\": True,\n",
    "            }\n",
    "\n",
    "model = create_model(modeltype, **constraints)"
   ]
  },
  {
   "cell_type": "code",
   "execution_count": 6,
   "metadata": {},
   "outputs": [
    {
     "data": {
      "text/html": [
       "<div>\n",
       "<style scoped>\n",
       "    .dataframe tbody tr th:only-of-type {\n",
       "        vertical-align: middle;\n",
       "    }\n",
       "\n",
       "    .dataframe tbody tr th {\n",
       "        vertical-align: top;\n",
       "    }\n",
       "\n",
       "    .dataframe thead th {\n",
       "        text-align: right;\n",
       "    }\n",
       "</style>\n",
       "<table border=\"1\" class=\"dataframe\">\n",
       "  <thead>\n",
       "    <tr style=\"text-align: right;\">\n",
       "      <th></th>\n",
       "      <th>id</th>\n",
       "      <th>result_master_id</th>\n",
       "      <th>DDH_name</th>\n",
       "      <th>from_m</th>\n",
       "      <th>to_m</th>\n",
       "      <th>Sample_Length_m</th>\n",
       "      <th>Scan_Length_m</th>\n",
       "      <th>Scan_Recovery_pct</th>\n",
       "      <th>Comp(c/s)</th>\n",
       "      <th>Rayl(c/s)</th>\n",
       "      <th>...</th>\n",
       "      <th>Ce_2SE_ppm</th>\n",
       "      <th>Ce_mdl_ppm</th>\n",
       "      <th>Pb_pct</th>\n",
       "      <th>Pb_2SE_pct</th>\n",
       "      <th>Pb_mdl_pct</th>\n",
       "      <th>U_ppm</th>\n",
       "      <th>U_2SE_ppm</th>\n",
       "      <th>U_mdl_ppm</th>\n",
       "      <th>minaloggerlink</th>\n",
       "      <th>Cluster</th>\n",
       "    </tr>\n",
       "  </thead>\n",
       "  <tbody>\n",
       "    <tr>\n",
       "      <th>0</th>\n",
       "      <td>69232</td>\n",
       "      <td>38</td>\n",
       "      <td>OOLDEA2</td>\n",
       "      <td>13</td>\n",
       "      <td>14</td>\n",
       "      <td>1</td>\n",
       "      <td>0.2401</td>\n",
       "      <td>24.01</td>\n",
       "      <td>2613.187</td>\n",
       "      <td>715.3073</td>\n",
       "      <td>...</td>\n",
       "      <td>54.90</td>\n",
       "      <td>40.99</td>\n",
       "      <td>0.0029</td>\n",
       "      <td>0.0017</td>\n",
       "      <td>0.0025</td>\n",
       "      <td>22.97</td>\n",
       "      <td>15.03</td>\n",
       "      <td>20.40</td>\n",
       "      <td>https://minalogger.com/viewer/?project=WESTERN...</td>\n",
       "      <td>Cluster 3</td>\n",
       "    </tr>\n",
       "    <tr>\n",
       "      <th>1</th>\n",
       "      <td>69233</td>\n",
       "      <td>38</td>\n",
       "      <td>OOLDEA2</td>\n",
       "      <td>14</td>\n",
       "      <td>15</td>\n",
       "      <td>1</td>\n",
       "      <td>0.4056</td>\n",
       "      <td>40.56</td>\n",
       "      <td>2498.827</td>\n",
       "      <td>653.7424</td>\n",
       "      <td>...</td>\n",
       "      <td>45.22</td>\n",
       "      <td>36.78</td>\n",
       "      <td>0.0030</td>\n",
       "      <td>0.0014</td>\n",
       "      <td>0.0021</td>\n",
       "      <td>20.18</td>\n",
       "      <td>12.16</td>\n",
       "      <td>16.75</td>\n",
       "      <td>https://minalogger.com/viewer/?project=WESTERN...</td>\n",
       "      <td>Cluster 3</td>\n",
       "    </tr>\n",
       "    <tr>\n",
       "      <th>2</th>\n",
       "      <td>69234</td>\n",
       "      <td>38</td>\n",
       "      <td>OOLDEA2</td>\n",
       "      <td>15</td>\n",
       "      <td>16</td>\n",
       "      <td>1</td>\n",
       "      <td>0.6329</td>\n",
       "      <td>63.29</td>\n",
       "      <td>2869.263</td>\n",
       "      <td>702.2439</td>\n",
       "      <td>...</td>\n",
       "      <td>36.45</td>\n",
       "      <td>30.90</td>\n",
       "      <td>0.0032</td>\n",
       "      <td>0.0012</td>\n",
       "      <td>0.0019</td>\n",
       "      <td>31.67</td>\n",
       "      <td>10.89</td>\n",
       "      <td>14.70</td>\n",
       "      <td>https://minalogger.com/viewer/?project=WESTERN...</td>\n",
       "      <td>Cluster 3</td>\n",
       "    </tr>\n",
       "    <tr>\n",
       "      <th>3</th>\n",
       "      <td>69235</td>\n",
       "      <td>38</td>\n",
       "      <td>OOLDEA2</td>\n",
       "      <td>16</td>\n",
       "      <td>17</td>\n",
       "      <td>1</td>\n",
       "      <td>0.6143</td>\n",
       "      <td>61.43</td>\n",
       "      <td>2594.439</td>\n",
       "      <td>641.5786</td>\n",
       "      <td>...</td>\n",
       "      <td>29.13</td>\n",
       "      <td>24.85</td>\n",
       "      <td>0.0036</td>\n",
       "      <td>0.0010</td>\n",
       "      <td>0.0015</td>\n",
       "      <td>24.23</td>\n",
       "      <td>9.12</td>\n",
       "      <td>12.22</td>\n",
       "      <td>https://minalogger.com/viewer/?project=WESTERN...</td>\n",
       "      <td>Cluster 3</td>\n",
       "    </tr>\n",
       "    <tr>\n",
       "      <th>4</th>\n",
       "      <td>69236</td>\n",
       "      <td>38</td>\n",
       "      <td>OOLDEA2</td>\n",
       "      <td>17</td>\n",
       "      <td>18</td>\n",
       "      <td>1</td>\n",
       "      <td>0.4486</td>\n",
       "      <td>44.86</td>\n",
       "      <td>2578.841</td>\n",
       "      <td>647.0553</td>\n",
       "      <td>...</td>\n",
       "      <td>28.67</td>\n",
       "      <td>26.67</td>\n",
       "      <td>0.0039</td>\n",
       "      <td>0.0011</td>\n",
       "      <td>0.0016</td>\n",
       "      <td>22.88</td>\n",
       "      <td>10.39</td>\n",
       "      <td>13.37</td>\n",
       "      <td>https://minalogger.com/viewer/?project=WESTERN...</td>\n",
       "      <td>Cluster 3</td>\n",
       "    </tr>\n",
       "  </tbody>\n",
       "</table>\n",
       "<p>5 rows × 100 columns</p>\n",
       "</div>"
      ],
      "text/plain": [
       "      id  result_master_id DDH_name  from_m  to_m  Sample_Length_m  \\\n",
       "0  69232                38  OOLDEA2      13    14                1   \n",
       "1  69233                38  OOLDEA2      14    15                1   \n",
       "2  69234                38  OOLDEA2      15    16                1   \n",
       "3  69235                38  OOLDEA2      16    17                1   \n",
       "4  69236                38  OOLDEA2      17    18                1   \n",
       "\n",
       "   Scan_Length_m  Scan_Recovery_pct  Comp(c/s)  Rayl(c/s)  ...  Ce_2SE_ppm  \\\n",
       "0         0.2401              24.01   2613.187   715.3073  ...       54.90   \n",
       "1         0.4056              40.56   2498.827   653.7424  ...       45.22   \n",
       "2         0.6329              63.29   2869.263   702.2439  ...       36.45   \n",
       "3         0.6143              61.43   2594.439   641.5786  ...       29.13   \n",
       "4         0.4486              44.86   2578.841   647.0553  ...       28.67   \n",
       "\n",
       "   Ce_mdl_ppm  Pb_pct  Pb_2SE_pct  Pb_mdl_pct  U_ppm  U_2SE_ppm  U_mdl_ppm  \\\n",
       "0       40.99  0.0029      0.0017      0.0025  22.97      15.03      20.40   \n",
       "1       36.78  0.0030      0.0014      0.0021  20.18      12.16      16.75   \n",
       "2       30.90  0.0032      0.0012      0.0019  31.67      10.89      14.70   \n",
       "3       24.85  0.0036      0.0010      0.0015  24.23       9.12      12.22   \n",
       "4       26.67  0.0039      0.0011      0.0016  22.88      10.39      13.37   \n",
       "\n",
       "                                      minaloggerlink    Cluster  \n",
       "0  https://minalogger.com/viewer/?project=WESTERN...  Cluster 3  \n",
       "1  https://minalogger.com/viewer/?project=WESTERN...  Cluster 3  \n",
       "2  https://minalogger.com/viewer/?project=WESTERN...  Cluster 3  \n",
       "3  https://minalogger.com/viewer/?project=WESTERN...  Cluster 3  \n",
       "4  https://minalogger.com/viewer/?project=WESTERN...  Cluster 3  \n",
       "\n",
       "[5 rows x 100 columns]"
      ]
     },
     "execution_count": 6,
     "metadata": {},
     "output_type": "execute_result"
    }
   ],
   "source": [
    "labeled = assign_model(model)\n",
    "labeled.head()"
   ]
  },
  {
   "cell_type": "code",
   "execution_count": 7,
   "metadata": {},
   "outputs": [
    {
     "data": {
      "application/vnd.plotly.v1+json": {
       "config": {
        "plotlyServerURL": "https://plot.ly"
       },
       "data": [
        {
         "customdata": [
          [
           69309
          ],
          [
           69332
          ],
          [
           69333
          ],
          [
           69334
          ],
          [
           69335
          ],
          [
           69336
          ],
          [
           69337
          ],
          [
           69338
          ],
          [
           69339
          ],
          [
           69340
          ],
          [
           69341
          ],
          [
           69342
          ],
          [
           69343
          ],
          [
           69344
          ],
          [
           69345
          ],
          [
           69346
          ],
          [
           69331
          ],
          [
           69330
          ],
          [
           69329
          ],
          [
           69328
          ],
          [
           69312
          ],
          [
           69313
          ],
          [
           69314
          ],
          [
           69315
          ],
          [
           69316
          ],
          [
           69317
          ],
          [
           69318
          ],
          [
           69347
          ],
          [
           69319
          ],
          [
           69321
          ],
          [
           69322
          ],
          [
           69323
          ],
          [
           69324
          ],
          [
           69325
          ],
          [
           69326
          ],
          [
           69327
          ],
          [
           69320
          ],
          [
           69311
          ],
          [
           69348
          ],
          [
           69350
          ],
          [
           69371
          ],
          [
           69372
          ],
          [
           69373
          ],
          [
           69374
          ],
          [
           69375
          ],
          [
           69376
          ],
          [
           69377
          ],
          [
           69378
          ],
          [
           69379
          ],
          [
           69380
          ],
          [
           69381
          ],
          [
           69382
          ],
          [
           69383
          ],
          [
           69384
          ],
          [
           69385
          ],
          [
           69370
          ],
          [
           69369
          ],
          [
           69368
          ],
          [
           69367
          ],
          [
           69351
          ],
          [
           69352
          ],
          [
           69353
          ],
          [
           69354
          ],
          [
           69355
          ],
          [
           69356
          ],
          [
           69357
          ],
          [
           69349
          ],
          [
           69358
          ],
          [
           69360
          ],
          [
           69361
          ],
          [
           69362
          ],
          [
           69363
          ],
          [
           69364
          ],
          [
           69365
          ],
          [
           69366
          ],
          [
           69359
          ],
          [
           69310
          ],
          [
           69387
          ],
          [
           69308
          ],
          [
           69386
          ],
          [
           69278
          ],
          [
           69279
          ],
          [
           69280
          ],
          [
           69281
          ],
          [
           69282
          ],
          [
           69284
          ],
          [
           69285
          ],
          [
           69286
          ],
          [
           69287
          ],
          [
           69288
          ],
          [
           69289
          ],
          [
           69290
          ],
          [
           69291
          ],
          [
           69292
          ],
          [
           69283
          ],
          [
           69294
          ],
          [
           69293
          ],
          [
           69306
          ],
          [
           69305
          ],
          [
           69304
          ],
          [
           69303
          ],
          [
           69301
          ],
          [
           69302
          ],
          [
           69299
          ],
          [
           69298
          ],
          [
           69297
          ],
          [
           69296
          ],
          [
           69295
          ],
          [
           69300
          ],
          [
           69307
          ]
         ],
         "hovertemplate": "Cluster=Cluster 0<br>PCA1=%{x}<br>PCA2=%{y}<br>Feature=%{customdata[0]}<extra></extra>",
         "legendgroup": "Cluster 0",
         "marker": {
          "color": "#636efa",
          "opacity": 0.5,
          "symbol": "circle"
         },
         "mode": "markers",
         "name": "Cluster 0",
         "orientation": "v",
         "showlegend": true,
         "textposition": "top center",
         "type": "scatter",
         "x": [
          -0.26923975348472595,
          -1.440659999847412,
          1.7390962839126587,
          1.0478702783584595,
          2.0722267627716064,
          3.529400587081909,
          0.8560717701911926,
          2.8728866577148438,
          -0.008333258330821991,
          0.902662992477417,
          -3.1597001552581787,
          -0.7623851895332336,
          -3.8048641681671143,
          0.5400528311729431,
          2.947564125061035,
          2.1411726474761963,
          1.441060185432434,
          2.3008806705474854,
          3.0116794109344482,
          -0.6248234510421753,
          -3.7654037475585938,
          -0.9225376844406128,
          -2.738420248031616,
          0.13227659463882446,
          -2.0417866706848145,
          0.7535613775253296,
          2.336501121520996,
          3.604740858078003,
          0.47306254506111145,
          0.015920400619506836,
          0.3338834345340729,
          -0.6873356699943542,
          -1.625563621520996,
          -2.8510642051696777,
          2.3697643280029297,
          0.2605056166648865,
          5.629492282867432,
          -0.6244058609008789,
          1.2321970462799072,
          0.24257908761501312,
          -4.673473358154297,
          -0.5520164370536804,
          -2.346484422683716,
          -5.572644233703613,
          -2.0387160778045654,
          -5.526862144470215,
          -1.4492080211639404,
          0.0249798446893692,
          -1.3906394243240356,
          1.5498963594436646,
          -3.480541229248047,
          1.1791722774505615,
          0.6387068033218384,
          2.3676443099975586,
          0.09109115600585938,
          -1.3088871240615845,
          -0.05189543962478638,
          0.08316747099161148,
          -3.9168612957000732,
          1.0041767358779907,
          1.2810579538345337,
          2.0664901733398438,
          2.098590612411499,
          -1.6720631122589111,
          0.962959885597229,
          -3.2835278511047363,
          0.5282142162322998,
          -5.58584451675415,
          -0.03244674578309059,
          -1.261606216430664,
          -0.7380831241607666,
          -1.6928553581237793,
          -0.36354878544807434,
          0.06572908908128738,
          -0.4693931043148041,
          0.35083863139152527,
          -0.5139646530151367,
          4.431562900543213,
          -1.3546949625015259,
          1.1581339836120605,
          -4.78287410736084,
          -1.5188719034194946,
          -1.2325575351715088,
          -0.2488415241241455,
          1.3941731452941895,
          2.263988494873047,
          2.016187906265259,
          -2.5075955390930176,
          -0.6552013158798218,
          -2.287963628768921,
          -1.193772554397583,
          2.1077358722686768,
          -2.230865716934204,
          -2.5856001377105713,
          -1.417464017868042,
          -2.279139995574951,
          -2.100165843963623,
          -0.766069233417511,
          1.3801641464233398,
          -0.3904564380645752,
          -0.9541125893592834,
          0.6205064058303833,
          -1.5045032501220703,
          -1.122077226638794,
          0.745892345905304,
          0.6432318687438965,
          -3.8834517002105713,
          -1.5740529298782349,
          0.5965704917907715,
          -2.9702982902526855
         ],
         "xaxis": "x",
         "y": [
          -1.3133350610733032,
          2.679670572280884,
          -1.6324435472488403,
          -2.403285503387451,
          -0.7574213743209839,
          -0.8874583840370178,
          -0.5812384486198425,
          -0.6446921825408936,
          1.3111116886138916,
          -1.2823196649551392,
          3.3568813800811768,
          -0.20333586633205414,
          0.12203709781169891,
          0.5767471790313721,
          -0.8912557363510132,
          -1.5955407619476318,
          0.2159896045923233,
          0.06598842889070511,
          -1.7190115451812744,
          -0.20026831328868866,
          0.6965120434761047,
          -1.2800544500350952,
          2.8016610145568848,
          -0.4441688060760498,
          0.9055439829826355,
          -0.4161805212497711,
          0.018897131085395813,
          -0.1446581333875656,
          -2.514315605163574,
          0.4211512506008148,
          -2.4214694499969482,
          -1.2966169118881226,
          -1.7985801696777344,
          -0.7632441520690918,
          -2.165691614151001,
          0.38720008730888367,
          -1.1508197784423828,
          -2.2129690647125244,
          -1.2525233030319214,
          -0.6630439162254333,
          -0.769167423248291,
          -1.3583757877349854,
          -1.4243959188461304,
          2.8183891773223877,
          -2.043053388595581,
          0.36055973172187805,
          0.7452905774116516,
          -0.5101166367530823,
          0.19491630792617798,
          -0.10683529078960419,
          -1.3538283109664917,
          -1.837378740310669,
          -1.778156042098999,
          -1.5494860410690308,
          -1.4610893726348877,
          -1.6240253448486328,
          0.17873816192150116,
          -0.7111833691596985,
          -1.433955430984497,
          -0.36335983872413635,
          -2.1263890266418457,
          -0.5314350128173828,
          -1.5498474836349487,
          -0.3620626628398895,
          -0.698188066482544,
          3.6655125617980957,
          -1.8635979890823364,
          -2.7003424167633057,
          -2.267805337905884,
          -1.0881965160369873,
          -1.302200198173523,
          -1.3768954277038574,
          -2.346815824508667,
          -2.658700704574585,
          -0.2752875089645386,
          -1.1259434223175049,
          -1.6937700510025024,
          -2.5824170112609863,
          0.26138371229171753,
          -1.0405479669570923,
          3.738438129425049,
          2.9248077869415283,
          1.2657933235168457,
          0.1525772511959076,
          -2.6560733318328857,
          -3.426135301589966,
          -2.328092336654663,
          -0.06173703074455261,
          0.25888729095458984,
          -0.6677864193916321,
          -1.569260835647583,
          -2.6579179763793945,
          -0.2607736885547638,
          -0.1665968894958496,
          -0.4903590977191925,
          -0.8850910067558289,
          -0.2991556227207184,
          -0.812345027923584,
          -0.796507716178894,
          -0.6395569443702698,
          -1.4561514854431152,
          -2.9158987998962402,
          -0.35076233744621277,
          -0.577262282371521,
          -1.2536503076553345,
          1.2357205152511597,
          -0.5701466202735901,
          -1.463721752166748,
          0.24914038181304932,
          -0.7979245781898499
         ],
         "yaxis": "y"
        },
        {
         "customdata": [
          [
           69249
          ],
          [
           69245
          ],
          [
           69248
          ],
          [
           69247
          ],
          [
           69246
          ],
          [
           69240
          ],
          [
           69243
          ],
          [
           69242
          ],
          [
           69241
          ],
          [
           69239
          ],
          [
           69238
          ],
          [
           69244
          ]
         ],
         "hovertemplate": "Cluster=Cluster 1<br>PCA1=%{x}<br>PCA2=%{y}<br>Feature=%{customdata[0]}<extra></extra>",
         "legendgroup": "Cluster 1",
         "marker": {
          "color": "#EF553B",
          "opacity": 0.5,
          "symbol": "circle"
         },
         "mode": "markers",
         "name": "Cluster 1",
         "orientation": "v",
         "showlegend": true,
         "textposition": "top center",
         "type": "scatter",
         "x": [
          -2.191465139389038,
          -2.624431848526001,
          2.3773720264434814,
          0.6595075726509094,
          -1.8763140439987183,
          -3.621507406234741,
          -0.9539439082145691,
          -3.477839946746826,
          -5.231356620788574,
          -0.2292848527431488,
          -0.9137832522392273,
          -2.892690896987915
         ],
         "xaxis": "x",
         "y": [
          0.4189537465572357,
          0.24317200481891632,
          1.7032004594802856,
          -1.923210620880127,
          -3.9179258346557617,
          0.017728319391608238,
          -0.3650456666946411,
          -0.11034006625413895,
          0.08284155279397964,
          -3.8172903060913086,
          -4.277528285980225,
          2.6265740394592285
         ],
         "yaxis": "y"
        },
        {
         "customdata": [
          [
           69255
          ],
          [
           69250
          ],
          [
           69251
          ],
          [
           69252
          ],
          [
           69253
          ],
          [
           69254
          ],
          [
           69256
          ],
          [
           69270
          ],
          [
           69258
          ],
          [
           69277
          ],
          [
           69276
          ],
          [
           69275
          ],
          [
           69274
          ],
          [
           69273
          ],
          [
           69272
          ],
          [
           69257
          ],
          [
           69269
          ],
          [
           69268
          ],
          [
           69271
          ],
          [
           69266
          ],
          [
           69265
          ],
          [
           69264
          ],
          [
           69263
          ],
          [
           69262
          ],
          [
           69261
          ],
          [
           69260
          ],
          [
           69259
          ],
          [
           69267
          ]
         ],
         "hovertemplate": "Cluster=Cluster 2<br>PCA1=%{x}<br>PCA2=%{y}<br>Feature=%{customdata[0]}<extra></extra>",
         "legendgroup": "Cluster 2",
         "marker": {
          "color": "#00cc96",
          "opacity": 0.5,
          "symbol": "circle"
         },
         "mode": "markers",
         "name": "Cluster 2",
         "orientation": "v",
         "showlegend": true,
         "textposition": "top center",
         "type": "scatter",
         "x": [
          4.257323741912842,
          3.186993360519409,
          3.2419142723083496,
          3.1091558933258057,
          3.1288998126983643,
          2.7093000411987305,
          4.878472805023193,
          1.9556586742401123,
          0.9221684336662292,
          0.5147952437400818,
          2.22806978225708,
          1.1392524242401123,
          2.2392630577087402,
          2.929142951965332,
          1.5883063077926636,
          2.7770774364471436,
          0.948543906211853,
          2.574761152267456,
          6.256176948547363,
          1.5617117881774902,
          0.3375219702720642,
          4.340881824493408,
          6.452670574188232,
          0.49177536368370056,
          4.865449905395508,
          4.518779754638672,
          2.178229808807373,
          4.802048206329346
         ],
         "xaxis": "x",
         "y": [
          2.2495787143707275,
          1.7184360027313232,
          2.188028335571289,
          -1.9625614881515503,
          1.6249765157699585,
          1.3523523807525635,
          3.296285629272461,
          2.080728769302368,
          2.6969046592712402,
          -0.5001768469810486,
          0.7570398449897766,
          2.9509804248809814,
          1.4668328762054443,
          2.7292263507843018,
          2.9475057125091553,
          3.2785773277282715,
          2.965735673904419,
          3.4650990962982178,
          3.4614410400390625,
          3.2100071907043457,
          3.567843437194824,
          1.1498936414718628,
          -0.09076949208974838,
          5.256056308746338,
          3.333794116973877,
          -0.07003770768642426,
          3.5698750019073486,
          3.160935640335083
         ],
         "yaxis": "y"
        },
        {
         "customdata": [
          [
           69237
          ],
          [
           69236
          ],
          [
           69235
          ],
          [
           69234
          ],
          [
           69233
          ],
          [
           69232
          ]
         ],
         "hovertemplate": "Cluster=Cluster 3<br>PCA1=%{x}<br>PCA2=%{y}<br>Feature=%{customdata[0]}<extra></extra>",
         "legendgroup": "Cluster 3",
         "marker": {
          "color": "#ab63fa",
          "opacity": 0.5,
          "symbol": "circle"
         },
         "mode": "markers",
         "name": "Cluster 3",
         "orientation": "v",
         "showlegend": true,
         "textposition": "top center",
         "type": "scatter",
         "x": [
          -2.284630060195923,
          -4.711880683898926,
          -4.224085330963135,
          -4.009472370147705,
          -2.8111534118652344,
          -2.7466394901275635
         ],
         "xaxis": "x",
         "y": [
          2.488584041595459,
          -0.9539263844490051,
          1.1172807216644287,
          5.999547481536865,
          7.202946662902832,
          5.6540093421936035
         ],
         "yaxis": "y"
        }
       ],
       "layout": {
        "height": 600,
        "legend": {
         "title": {
          "text": "Cluster"
         },
         "tracegroupgap": 0
        },
        "margin": {
         "t": 60
        },
        "plot_bgcolor": "rgb(240,240,240)",
        "template": {
         "data": {
          "bar": [
           {
            "error_x": {
             "color": "#2a3f5f"
            },
            "error_y": {
             "color": "#2a3f5f"
            },
            "marker": {
             "line": {
              "color": "#E5ECF6",
              "width": 0.5
             },
             "pattern": {
              "fillmode": "overlay",
              "size": 10,
              "solidity": 0.2
             }
            },
            "type": "bar"
           }
          ],
          "barpolar": [
           {
            "marker": {
             "line": {
              "color": "#E5ECF6",
              "width": 0.5
             },
             "pattern": {
              "fillmode": "overlay",
              "size": 10,
              "solidity": 0.2
             }
            },
            "type": "barpolar"
           }
          ],
          "carpet": [
           {
            "aaxis": {
             "endlinecolor": "#2a3f5f",
             "gridcolor": "white",
             "linecolor": "white",
             "minorgridcolor": "white",
             "startlinecolor": "#2a3f5f"
            },
            "baxis": {
             "endlinecolor": "#2a3f5f",
             "gridcolor": "white",
             "linecolor": "white",
             "minorgridcolor": "white",
             "startlinecolor": "#2a3f5f"
            },
            "type": "carpet"
           }
          ],
          "choropleth": [
           {
            "colorbar": {
             "outlinewidth": 0,
             "ticks": ""
            },
            "type": "choropleth"
           }
          ],
          "contour": [
           {
            "colorbar": {
             "outlinewidth": 0,
             "ticks": ""
            },
            "colorscale": [
             [
              0,
              "#0d0887"
             ],
             [
              0.1111111111111111,
              "#46039f"
             ],
             [
              0.2222222222222222,
              "#7201a8"
             ],
             [
              0.3333333333333333,
              "#9c179e"
             ],
             [
              0.4444444444444444,
              "#bd3786"
             ],
             [
              0.5555555555555556,
              "#d8576b"
             ],
             [
              0.6666666666666666,
              "#ed7953"
             ],
             [
              0.7777777777777778,
              "#fb9f3a"
             ],
             [
              0.8888888888888888,
              "#fdca26"
             ],
             [
              1,
              "#f0f921"
             ]
            ],
            "type": "contour"
           }
          ],
          "contourcarpet": [
           {
            "colorbar": {
             "outlinewidth": 0,
             "ticks": ""
            },
            "type": "contourcarpet"
           }
          ],
          "heatmap": [
           {
            "colorbar": {
             "outlinewidth": 0,
             "ticks": ""
            },
            "colorscale": [
             [
              0,
              "#0d0887"
             ],
             [
              0.1111111111111111,
              "#46039f"
             ],
             [
              0.2222222222222222,
              "#7201a8"
             ],
             [
              0.3333333333333333,
              "#9c179e"
             ],
             [
              0.4444444444444444,
              "#bd3786"
             ],
             [
              0.5555555555555556,
              "#d8576b"
             ],
             [
              0.6666666666666666,
              "#ed7953"
             ],
             [
              0.7777777777777778,
              "#fb9f3a"
             ],
             [
              0.8888888888888888,
              "#fdca26"
             ],
             [
              1,
              "#f0f921"
             ]
            ],
            "type": "heatmap"
           }
          ],
          "heatmapgl": [
           {
            "colorbar": {
             "outlinewidth": 0,
             "ticks": ""
            },
            "colorscale": [
             [
              0,
              "#0d0887"
             ],
             [
              0.1111111111111111,
              "#46039f"
             ],
             [
              0.2222222222222222,
              "#7201a8"
             ],
             [
              0.3333333333333333,
              "#9c179e"
             ],
             [
              0.4444444444444444,
              "#bd3786"
             ],
             [
              0.5555555555555556,
              "#d8576b"
             ],
             [
              0.6666666666666666,
              "#ed7953"
             ],
             [
              0.7777777777777778,
              "#fb9f3a"
             ],
             [
              0.8888888888888888,
              "#fdca26"
             ],
             [
              1,
              "#f0f921"
             ]
            ],
            "type": "heatmapgl"
           }
          ],
          "histogram": [
           {
            "marker": {
             "pattern": {
              "fillmode": "overlay",
              "size": 10,
              "solidity": 0.2
             }
            },
            "type": "histogram"
           }
          ],
          "histogram2d": [
           {
            "colorbar": {
             "outlinewidth": 0,
             "ticks": ""
            },
            "colorscale": [
             [
              0,
              "#0d0887"
             ],
             [
              0.1111111111111111,
              "#46039f"
             ],
             [
              0.2222222222222222,
              "#7201a8"
             ],
             [
              0.3333333333333333,
              "#9c179e"
             ],
             [
              0.4444444444444444,
              "#bd3786"
             ],
             [
              0.5555555555555556,
              "#d8576b"
             ],
             [
              0.6666666666666666,
              "#ed7953"
             ],
             [
              0.7777777777777778,
              "#fb9f3a"
             ],
             [
              0.8888888888888888,
              "#fdca26"
             ],
             [
              1,
              "#f0f921"
             ]
            ],
            "type": "histogram2d"
           }
          ],
          "histogram2dcontour": [
           {
            "colorbar": {
             "outlinewidth": 0,
             "ticks": ""
            },
            "colorscale": [
             [
              0,
              "#0d0887"
             ],
             [
              0.1111111111111111,
              "#46039f"
             ],
             [
              0.2222222222222222,
              "#7201a8"
             ],
             [
              0.3333333333333333,
              "#9c179e"
             ],
             [
              0.4444444444444444,
              "#bd3786"
             ],
             [
              0.5555555555555556,
              "#d8576b"
             ],
             [
              0.6666666666666666,
              "#ed7953"
             ],
             [
              0.7777777777777778,
              "#fb9f3a"
             ],
             [
              0.8888888888888888,
              "#fdca26"
             ],
             [
              1,
              "#f0f921"
             ]
            ],
            "type": "histogram2dcontour"
           }
          ],
          "mesh3d": [
           {
            "colorbar": {
             "outlinewidth": 0,
             "ticks": ""
            },
            "type": "mesh3d"
           }
          ],
          "parcoords": [
           {
            "line": {
             "colorbar": {
              "outlinewidth": 0,
              "ticks": ""
             }
            },
            "type": "parcoords"
           }
          ],
          "pie": [
           {
            "automargin": true,
            "type": "pie"
           }
          ],
          "scatter": [
           {
            "marker": {
             "colorbar": {
              "outlinewidth": 0,
              "ticks": ""
             }
            },
            "type": "scatter"
           }
          ],
          "scatter3d": [
           {
            "line": {
             "colorbar": {
              "outlinewidth": 0,
              "ticks": ""
             }
            },
            "marker": {
             "colorbar": {
              "outlinewidth": 0,
              "ticks": ""
             }
            },
            "type": "scatter3d"
           }
          ],
          "scattercarpet": [
           {
            "marker": {
             "colorbar": {
              "outlinewidth": 0,
              "ticks": ""
             }
            },
            "type": "scattercarpet"
           }
          ],
          "scattergeo": [
           {
            "marker": {
             "colorbar": {
              "outlinewidth": 0,
              "ticks": ""
             }
            },
            "type": "scattergeo"
           }
          ],
          "scattergl": [
           {
            "marker": {
             "colorbar": {
              "outlinewidth": 0,
              "ticks": ""
             }
            },
            "type": "scattergl"
           }
          ],
          "scattermapbox": [
           {
            "marker": {
             "colorbar": {
              "outlinewidth": 0,
              "ticks": ""
             }
            },
            "type": "scattermapbox"
           }
          ],
          "scatterpolar": [
           {
            "marker": {
             "colorbar": {
              "outlinewidth": 0,
              "ticks": ""
             }
            },
            "type": "scatterpolar"
           }
          ],
          "scatterpolargl": [
           {
            "marker": {
             "colorbar": {
              "outlinewidth": 0,
              "ticks": ""
             }
            },
            "type": "scatterpolargl"
           }
          ],
          "scatterternary": [
           {
            "marker": {
             "colorbar": {
              "outlinewidth": 0,
              "ticks": ""
             }
            },
            "type": "scatterternary"
           }
          ],
          "surface": [
           {
            "colorbar": {
             "outlinewidth": 0,
             "ticks": ""
            },
            "colorscale": [
             [
              0,
              "#0d0887"
             ],
             [
              0.1111111111111111,
              "#46039f"
             ],
             [
              0.2222222222222222,
              "#7201a8"
             ],
             [
              0.3333333333333333,
              "#9c179e"
             ],
             [
              0.4444444444444444,
              "#bd3786"
             ],
             [
              0.5555555555555556,
              "#d8576b"
             ],
             [
              0.6666666666666666,
              "#ed7953"
             ],
             [
              0.7777777777777778,
              "#fb9f3a"
             ],
             [
              0.8888888888888888,
              "#fdca26"
             ],
             [
              1,
              "#f0f921"
             ]
            ],
            "type": "surface"
           }
          ],
          "table": [
           {
            "cells": {
             "fill": {
              "color": "#EBF0F8"
             },
             "line": {
              "color": "white"
             }
            },
            "header": {
             "fill": {
              "color": "#C8D4E3"
             },
             "line": {
              "color": "white"
             }
            },
            "type": "table"
           }
          ]
         },
         "layout": {
          "annotationdefaults": {
           "arrowcolor": "#2a3f5f",
           "arrowhead": 0,
           "arrowwidth": 1
          },
          "autotypenumbers": "strict",
          "coloraxis": {
           "colorbar": {
            "outlinewidth": 0,
            "ticks": ""
           }
          },
          "colorscale": {
           "diverging": [
            [
             0,
             "#8e0152"
            ],
            [
             0.1,
             "#c51b7d"
            ],
            [
             0.2,
             "#de77ae"
            ],
            [
             0.3,
             "#f1b6da"
            ],
            [
             0.4,
             "#fde0ef"
            ],
            [
             0.5,
             "#f7f7f7"
            ],
            [
             0.6,
             "#e6f5d0"
            ],
            [
             0.7,
             "#b8e186"
            ],
            [
             0.8,
             "#7fbc41"
            ],
            [
             0.9,
             "#4d9221"
            ],
            [
             1,
             "#276419"
            ]
           ],
           "sequential": [
            [
             0,
             "#0d0887"
            ],
            [
             0.1111111111111111,
             "#46039f"
            ],
            [
             0.2222222222222222,
             "#7201a8"
            ],
            [
             0.3333333333333333,
             "#9c179e"
            ],
            [
             0.4444444444444444,
             "#bd3786"
            ],
            [
             0.5555555555555556,
             "#d8576b"
            ],
            [
             0.6666666666666666,
             "#ed7953"
            ],
            [
             0.7777777777777778,
             "#fb9f3a"
            ],
            [
             0.8888888888888888,
             "#fdca26"
            ],
            [
             1,
             "#f0f921"
            ]
           ],
           "sequentialminus": [
            [
             0,
             "#0d0887"
            ],
            [
             0.1111111111111111,
             "#46039f"
            ],
            [
             0.2222222222222222,
             "#7201a8"
            ],
            [
             0.3333333333333333,
             "#9c179e"
            ],
            [
             0.4444444444444444,
             "#bd3786"
            ],
            [
             0.5555555555555556,
             "#d8576b"
            ],
            [
             0.6666666666666666,
             "#ed7953"
            ],
            [
             0.7777777777777778,
             "#fb9f3a"
            ],
            [
             0.8888888888888888,
             "#fdca26"
            ],
            [
             1,
             "#f0f921"
            ]
           ]
          },
          "colorway": [
           "#636efa",
           "#EF553B",
           "#00cc96",
           "#ab63fa",
           "#FFA15A",
           "#19d3f3",
           "#FF6692",
           "#B6E880",
           "#FF97FF",
           "#FECB52"
          ],
          "font": {
           "color": "#2a3f5f"
          },
          "geo": {
           "bgcolor": "white",
           "lakecolor": "white",
           "landcolor": "#E5ECF6",
           "showlakes": true,
           "showland": true,
           "subunitcolor": "white"
          },
          "hoverlabel": {
           "align": "left"
          },
          "hovermode": "closest",
          "mapbox": {
           "style": "light"
          },
          "paper_bgcolor": "white",
          "plot_bgcolor": "#E5ECF6",
          "polar": {
           "angularaxis": {
            "gridcolor": "white",
            "linecolor": "white",
            "ticks": ""
           },
           "bgcolor": "#E5ECF6",
           "radialaxis": {
            "gridcolor": "white",
            "linecolor": "white",
            "ticks": ""
           }
          },
          "scene": {
           "xaxis": {
            "backgroundcolor": "#E5ECF6",
            "gridcolor": "white",
            "gridwidth": 2,
            "linecolor": "white",
            "showbackground": true,
            "ticks": "",
            "zerolinecolor": "white"
           },
           "yaxis": {
            "backgroundcolor": "#E5ECF6",
            "gridcolor": "white",
            "gridwidth": 2,
            "linecolor": "white",
            "showbackground": true,
            "ticks": "",
            "zerolinecolor": "white"
           },
           "zaxis": {
            "backgroundcolor": "#E5ECF6",
            "gridcolor": "white",
            "gridwidth": 2,
            "linecolor": "white",
            "showbackground": true,
            "ticks": "",
            "zerolinecolor": "white"
           }
          },
          "shapedefaults": {
           "line": {
            "color": "#2a3f5f"
           }
          },
          "ternary": {
           "aaxis": {
            "gridcolor": "white",
            "linecolor": "white",
            "ticks": ""
           },
           "baxis": {
            "gridcolor": "white",
            "linecolor": "white",
            "ticks": ""
           },
           "bgcolor": "#E5ECF6",
           "caxis": {
            "gridcolor": "white",
            "linecolor": "white",
            "ticks": ""
           }
          },
          "title": {
           "x": 0.05
          },
          "xaxis": {
           "automargin": true,
           "gridcolor": "white",
           "linecolor": "white",
           "ticks": "",
           "title": {
            "standoff": 15
           },
           "zerolinecolor": "white",
           "zerolinewidth": 2
          },
          "yaxis": {
           "automargin": true,
           "gridcolor": "white",
           "linecolor": "white",
           "ticks": "",
           "title": {
            "standoff": 15
           },
           "zerolinecolor": "white",
           "zerolinewidth": 2
          }
         }
        },
        "title": {
         "text": "2D Cluster PCA Plot"
        },
        "xaxis": {
         "anchor": "y",
         "domain": [
          0,
          1
         ],
         "title": {
          "text": "PCA1"
         }
        },
        "yaxis": {
         "anchor": "x",
         "domain": [
          0,
          1
         ],
         "title": {
          "text": "PCA2"
         }
        }
       }
      }
     },
     "metadata": {},
     "output_type": "display_data"
    }
   ],
   "source": [
    "plot_model(model)"
   ]
  }
 ],
 "metadata": {
  "interpreter": {
   "hash": "3cfa9c4e7307ebc883beeab379eb740eb5e72c0b0cce0d8aa7c580f7ad798db1"
  },
  "kernelspec": {
   "display_name": "Python 3.7.11 64-bit ('scistack': conda)",
   "language": "python",
   "name": "python3"
  },
  "language_info": {
   "codemirror_mode": {
    "name": "ipython",
    "version": 3
   },
   "file_extension": ".py",
   "mimetype": "text/x-python",
   "name": "python",
   "nbconvert_exporter": "python",
   "pygments_lexer": "ipython3",
   "version": "3.8.12"
  },
  "orig_nbformat": 4
 },
 "nbformat": 4,
 "nbformat_minor": 2
}

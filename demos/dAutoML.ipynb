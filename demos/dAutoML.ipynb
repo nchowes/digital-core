{
 "cells": [
  {
   "cell_type": "markdown",
   "metadata": {},
   "source": [
    "# digital-core: geochemistry\n",
    "\n",
    "## Unsupervised segmentation w/ automated ML "
   ]
  },
  {
   "cell_type": "code",
   "execution_count": null,
   "metadata": {},
   "outputs": [],
   "source": [
    "from pycaret.clustering import *\n",
    "from sklearn.neighbors import kneighbors_graph"
   ]
  },
  {
   "cell_type": "code",
   "execution_count": null,
   "metadata": {},
   "outputs": [],
   "source": [
    "def get_variables(df):\n",
    "    \"\"\"List all variables\"\"\"\n",
    "    value = list( df.columns )\n",
    "    return value\n",
    "\n",
    "def get_ignorefeatures(df):\n",
    "    \"\"\"List all ignored features\"\"\"\n",
    "    value = [\n",
    "        'id', \n",
    "        'result_master_id',\n",
    "        'DDH_name',\n",
    "        'from_m',\n",
    "        'to_m',\n",
    "        'Sample_Length_m',\n",
    "        'Scan_Length_m',\n",
    "        'Scan_Recovery_pct',\n",
    "        'Comp(c/s)', \n",
    "        'Rayl(c/s)', \n",
    "        'LT(secs)',\n",
    "        'minaloggerlink']\n",
    "    additional = (\n",
    "        [s for i, s in enumerate(get_variables(df)) if \"mdl\" in s] +\n",
    "        [s for i, s in enumerate(get_variables(df)) if \"2SE\" in s]\n",
    "        )\n",
    "    value = value + additional\n",
    "    return value"
   ]
  },
  {
   "cell_type": "code",
   "execution_count": null,
   "metadata": {},
   "outputs": [],
   "source": [
    "filepath   = '../data/OOLDEA2_1m_intervals.csv'\n",
    "data = pd.read_csv( filepath )"
   ]
  },
  {
   "cell_type": "code",
   "execution_count": null,
   "metadata": {},
   "outputs": [],
   "source": [
    "exp = setup(data, normalize = True, \n",
    "    ignore_features = get_ignorefeatures(data),\n",
    "    session_id = 123, \n",
    "    silent = True, \n",
    "    pca = False)     "
   ]
  },
  {
   "cell_type": "code",
   "execution_count": null,
   "metadata": {},
   "outputs": [],
   "source": [
    "modeltype = \"hclust\"\n",
    "\n",
    " # Connectivity constraint for hierarchical cluster \n",
    "depth_constraint = data[\"from_m\"].values.reshape(-1,1)\n",
    "connect = kneighbors_graph(depth_constraint, n_neighbors=2, include_self=False)\n",
    "\n",
    "constraints = { \"connectivity\": connect, \n",
    "    \"affinity\": 'euclidean', \n",
    "    \"linkage\": 'ward', \n",
    "    \"compute_full_tree\": True,\n",
    "            }\n",
    "\n",
    "model = create_model(modeltype, **constraints)"
   ]
  },
  {
   "cell_type": "code",
   "execution_count": null,
   "metadata": {},
   "outputs": [],
   "source": [
    "labeled = assign_model(model)\n",
    "labeled.head()"
   ]
  },
  {
   "cell_type": "code",
   "execution_count": null,
   "metadata": {},
   "outputs": [],
   "source": [
    "plot_model(model)"
   ]
  }
 ],
 "metadata": {
  "interpreter": {
   "hash": "3cfa9c4e7307ebc883beeab379eb740eb5e72c0b0cce0d8aa7c580f7ad798db1"
  },
  "kernelspec": {
   "display_name": "Python 3.7.11 64-bit ('scistack': conda)",
   "language": "python",
   "name": "python3"
  },
  "language_info": {
   "codemirror_mode": {
    "name": "ipython",
    "version": 3
   },
   "file_extension": ".py",
   "mimetype": "text/x-python",
   "name": "python",
   "nbconvert_exporter": "python",
   "pygments_lexer": "ipython3",
   "version": "3.8.12"
  },
  "orig_nbformat": 4
 },
 "nbformat": 4,
 "nbformat_minor": 2
}

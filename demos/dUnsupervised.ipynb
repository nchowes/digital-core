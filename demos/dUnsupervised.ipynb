{
 "cells": [
  {
   "cell_type": "markdown",
   "metadata": {},
   "source": [
    "# Minalyze: Geochemistry\n",
    "\n",
    "## Unsupervised segmentation"
   ]
  },
  {
   "cell_type": "code",
   "execution_count": null,
   "metadata": {},
   "outputs": [],
   "source": [
    "import pandas as pd\n",
    "import numpy as np\n",
    "import sklearn\n",
    "import matplotlib as mpl\n",
    "import matplotlib.pyplot as plt"
   ]
  },
  {
   "cell_type": "code",
   "execution_count": null,
   "metadata": {},
   "outputs": [],
   "source": [
    "df = pd.read_csv('../data/OOLDEA2_1m_intervals.csv')"
   ]
  },
  {
   "cell_type": "code",
   "execution_count": null,
   "metadata": {},
   "outputs": [],
   "source": [
    "df.tail()"
   ]
  },
  {
   "cell_type": "code",
   "execution_count": null,
   "metadata": {},
   "outputs": [],
   "source": [
    "df.columns"
   ]
  },
  {
   "cell_type": "code",
   "execution_count": null,
   "metadata": {},
   "outputs": [],
   "source": [
    "var_str = list( df.columns )\n",
    "\n",
    "features = (\n",
    "    [i for i, s in enumerate(var_str) if \"pct\" in s \n",
    "        and \"mdl\" not in s \n",
    "        and \"2SE\" not in s] + \n",
    "    [i for i, s in enumerate(var_str) if \"ppm\"  in s \n",
    "        and \"mdl\" not in s \n",
    "        and \"2SE\" not in s]\n",
    "        )\n",
    "\n",
    "df_features = df.iloc[:,features[1:]]\n",
    "\n",
    "df_features.head()\n"
   ]
  },
  {
   "cell_type": "code",
   "execution_count": null,
   "metadata": {},
   "outputs": [],
   "source": [
    "from sklearn.preprocessing import StandardScaler\n",
    "from sklearn.decomposition import PCA\n",
    "from sklearn.pipeline import Pipeline\n",
    "\n",
    "pipeline = Pipeline([('scaling', StandardScaler()), ('pca', PCA(n_components=10))])\n",
    "X=pipeline.fit_transform(df_features)"
   ]
  },
  {
   "cell_type": "code",
   "execution_count": null,
   "metadata": {},
   "outputs": [],
   "source": [
    "def plot_pca(X, mode=\"2D\"):\n",
    "\n",
    "    if mode.lower() == \"2d\":\n",
    "\n",
    "        fig = plt.figure(figsize=(8, 8))\n",
    "        ax = fig.add_subplot(111, aspect='equal')\n",
    "\n",
    "        ax.scatter(X[:, 0], X[:, 1], alpha=.5, s=60)\n",
    "\n",
    "        ax.arrow(0, 0, 0, 1, head_width=0.05, length_includes_head=True, head_length=0.1, fc='k', ec='k')\n",
    "        ax.arrow(0, 0, 1, 0, head_width=0.05, length_includes_head=True, head_length=0.1, fc='k', ec='k')\n",
    "        ax.set_xlabel(\"$pca_1$\", fontsize=18)\n",
    "        ax.set_ylabel(\"$pca_2$\", fontsize=18)\n",
    "        ax.grid(True)\n",
    "\n",
    "    elif mode.lower() == \"3d\":\n",
    "\n",
    "        fig = plt.figure(figsize=(8, 8))\n",
    "        ax = fig.add_subplot(111, projection='3d')\n",
    "\n",
    "        ax.scatter(X[:, 0], X[:, 1],  X[:, 2],  alpha=.4, s=60)\n",
    "        ax.view_init(25, -50)\n",
    "\n",
    "        ax.set_xlabel(\"$pca_1$\", fontsize=18)\n",
    "        ax.set_ylabel(\"$pca_2$\", fontsize=18)\n",
    "        ax.set_zlabel(\"$pca_3$\", fontsize=18)\n",
    "        ax.grid(True)\n",
    "\n",
    "    else:\n",
    "\n",
    "        print('Unknown mode: please specify as 2D or 3D')\n"
   ]
  },
  {
   "cell_type": "code",
   "execution_count": null,
   "metadata": {},
   "outputs": [],
   "source": [
    "plot_pca( X )"
   ]
  },
  {
   "cell_type": "code",
   "execution_count": null,
   "metadata": {},
   "outputs": [],
   "source": [
    "plot_pca( X, mode=\"3D\")"
   ]
  },
  {
   "cell_type": "markdown",
   "metadata": {},
   "source": [
    "## K-Means"
   ]
  },
  {
   "cell_type": "code",
   "execution_count": null,
   "metadata": {},
   "outputs": [],
   "source": [
    "from sklearn.cluster import KMeans"
   ]
  },
  {
   "cell_type": "code",
   "execution_count": null,
   "metadata": {},
   "outputs": [],
   "source": [
    "kmeans_per_k = [KMeans(n_clusters=k, random_state=42).fit(X)\n",
    "                for k in range(1, 10)]\n",
    "                \n",
    "inertias = [model.inertia_ for model in kmeans_per_k]"
   ]
  },
  {
   "cell_type": "code",
   "execution_count": null,
   "metadata": {},
   "outputs": [],
   "source": [
    "def  elbow_plot(inertias):\n",
    "    plt.figure(figsize=(8, 3.5))\n",
    "    plt.plot(range(1, len(inertias)+1), inertias, \"bo-\")\n",
    "    plt.xlabel(\"$k$\", fontsize=14)\n",
    "    plt.ylabel(\"Inertia\", fontsize=14)\n",
    "    plt.annotate('Elbow',\n",
    "                xy=(3, inertias[2]),\n",
    "                xytext=(0.55, 0.55),\n",
    "                textcoords='figure fraction',\n",
    "                fontsize=16,\n",
    "                arrowprops=dict(facecolor='black', shrink=0.1)\n",
    "                )"
   ]
  },
  {
   "cell_type": "code",
   "execution_count": null,
   "metadata": {},
   "outputs": [],
   "source": [
    "elbow_plot(inertias)"
   ]
  },
  {
   "cell_type": "code",
   "execution_count": null,
   "metadata": {},
   "outputs": [],
   "source": [
    "k = 3\n",
    "kmeans = KMeans(n_clusters=k, random_state=42)\n",
    "y_pred = kmeans.fit_predict(X)"
   ]
  },
  {
   "cell_type": "code",
   "execution_count": null,
   "metadata": {},
   "outputs": [],
   "source": [
    "fig = plt.figure(figsize=(8, 8))\n",
    "ax = fig.add_subplot(111, projection='3d')\n",
    "\n",
    "for iter in range(3):\n",
    "    ax.scatter(X[y_pred == iter, 0], X[y_pred == iter, 1],  X[y_pred == iter, 2], alpha=.4, s=60)\n",
    "\n",
    "ax.view_init(25, -50)\n",
    "\n",
    "ax.set_xlabel(\"$pca_1$\", fontsize=18)\n",
    "ax.set_ylabel(\"$pca_2$\", fontsize=18)\n",
    "ax.set_zlabel(\"$pca_3$\", fontsize=18)\n",
    "ax.grid(True)\n"
   ]
  },
  {
   "cell_type": "markdown",
   "metadata": {},
   "source": [
    "## Hierarchical clustering: unconstrained"
   ]
  },
  {
   "cell_type": "code",
   "execution_count": null,
   "metadata": {},
   "outputs": [],
   "source": [
    "import scipy.cluster.hierarchy as shc\n",
    "from sklearn.preprocessing import normalize \n",
    "\n",
    "plt.figure(figsize=(18, 10))  \n",
    "plt.title(\"Dendrograms\") \n",
    "dendro = shc.dendrogram(shc.linkage(X, method='ward'))"
   ]
  },
  {
   "cell_type": "code",
   "execution_count": null,
   "metadata": {},
   "outputs": [],
   "source": [
    "from sklearn.cluster import AgglomerativeClustering\n",
    "cluster = AgglomerativeClustering(n_clusters=None, affinity='euclidean', \n",
    "    linkage='ward', compute_full_tree=True, distance_threshold=20)  \n",
    "lbl = cluster.fit_predict(X)\n",
    "\n",
    "n = 1+np.amax(cluster.labels_)\n",
    "\n",
    "print(f\"Number of clusters = {n}\")\n"
   ]
  },
  {
   "cell_type": "code",
   "execution_count": null,
   "metadata": {},
   "outputs": [],
   "source": [
    "fig = plt.figure(figsize=(8, 8))\n",
    "ax = fig.add_subplot(111, projection='3d')\n",
    "\n",
    "for iter in range(n):\n",
    "    ax.scatter(X[lbl == iter, 0], X[lbl == iter, 1],  X[lbl == iter, 2], alpha=.4, s=60)\n",
    "\n",
    "ax.view_init(25, -50)"
   ]
  },
  {
   "cell_type": "markdown",
   "metadata": {},
   "source": [
    "## Hierarchical clustering: constrained "
   ]
  },
  {
   "cell_type": "code",
   "execution_count": null,
   "metadata": {},
   "outputs": [],
   "source": [
    "from sklearn.neighbors import kneighbors_graph\n",
    "\n",
    "# Define adjacency/connectivity matrix \n",
    "depth_constraint = df.from_m.values.reshape(-1,1)\n",
    "connectivity = kneighbors_graph(depth_constraint, n_neighbors=2, include_self=False)\n",
    "\n",
    "\n",
    "cluster = AgglomerativeClustering(n_clusters=3, connectivity=connectivity, \n",
    "    affinity='euclidean', linkage='ward', compute_full_tree=True)  \n",
    "lbl = cluster.fit_predict(X)"
   ]
  },
  {
   "cell_type": "code",
   "execution_count": null,
   "metadata": {},
   "outputs": [],
   "source": [
    "fig, ax = plt.subplots( figsize=(4,12))\n",
    "\n",
    "for iter in range(3):\n",
    "   ax.plot(df.U_ppm[lbl == iter], df.from_m[lbl == iter])\n",
    "   \n",
    "ax.invert_yaxis()\n",
    "\n",
    "ax.set_xlabel(\"U_ppm\")\n",
    "ax.set_ylabel(\"Depth\")\n",
    "ax.set_title(\"Agglomerative Clustering: with depth constraint\");"
   ]
  }
 ],
 "metadata": {
  "interpreter": {
   "hash": "c7900be71afd8079b400fc2e860bf11903f52ed2dbb4fe3d7e4cb9743b581a7f"
  },
  "kernelspec": {
   "display_name": "Python 3.8.12 64-bit ('automl-pycaret': conda)",
   "name": "python3"
  },
  "language_info": {
   "codemirror_mode": {
    "name": "ipython",
    "version": 3
   },
   "file_extension": ".py",
   "mimetype": "text/x-python",
   "name": "python",
   "nbconvert_exporter": "python",
   "pygments_lexer": "ipython3",
   "version": "3.8.12"
  },
  "orig_nbformat": 4
 },
 "nbformat": 4,
 "nbformat_minor": 2
}

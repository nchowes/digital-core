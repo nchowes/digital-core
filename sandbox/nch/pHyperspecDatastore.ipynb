{
 "cells": [
  {
   "cell_type": "markdown",
   "metadata": {},
   "source": [
    "# Prototype Hyperspectral Class\n",
    "\n",
    "Mineral map datastore and feature extraction."
   ]
  },
  {
   "cell_type": "code",
   "execution_count": null,
   "metadata": {},
   "outputs": [],
   "source": [
    "import glob, os\n",
    "import numpy as np\n",
    "import pandas as pd\n",
    "import seaborn as sns \n",
    "import matplotlib.pyplot as plt\n",
    "from skimage.measure import label, regionprops\n",
    "from PIL import Image "
   ]
  },
  {
   "cell_type": "markdown",
   "metadata": {},
   "source": [
    "## Module"
   ]
  },
  {
   "cell_type": "markdown",
   "metadata": {},
   "source": [
    "#### Metadata"
   ]
  },
  {
   "cell_type": "code",
   "execution_count": null,
   "metadata": {},
   "outputs": [],
   "source": [
    "def datastore_metadata( path_to_images ):\n",
    "    \"\"\"Prepare metadata on datastore\"\"\"\n",
    "    image_map_files = []\n",
    "    for file in os.listdir( path_to_images ):\n",
    "        if file.endswith( \".png\" ):\n",
    "            image_map_files.append(file)\n",
    "    df = pd.DataFrame(image_map_files, columns=[\"filename\"])\n",
    "\n",
    "    identifiers = parse_identifier( df )\n",
    "    depths = parse_depths( df )\n",
    "    image_metadata = pd.concat([df, identifiers, depths], axis=1)\n",
    "    image_metadata = image_metadata\\\n",
    "        .sort_values(by=\"box-id\")\\\n",
    "        .reset_index( drop=True )\n",
    "    return image_metadata\n",
    "\n",
    "def parse_identifier(df):\n",
    "    \"\"\"Parse identifier string in mineralmap and mask filenames\"\"\"\n",
    "    identifiers = df[\"filename\"]\\\n",
    "        .str.extract(\"CMM-(.*)@\",expand=False)\\\n",
    "        .str.split(\"_\", expand=True)\\\n",
    "        .astype(\"int\")\n",
    "    identifiers.columns = [\"core-id\", \"box-id\"] \n",
    "    return identifiers\n",
    "\n",
    "def parse_depths(df):\n",
    "    \"\"\"Parse depth string in mineralmap and mask filenames\"\"\"\n",
    "    depths = df[\"filename\"]\\\n",
    "        .str.extract(\"@(.*).png\",expand=False)\\\n",
    "        .str.split(\"_\", expand=True)\\\n",
    "        .astype(\"float\")\n",
    "    depths.columns = [\"depth-start\", \"depth-end\"] \n",
    "    return depths "
   ]
  },
  {
   "cell_type": "markdown",
   "metadata": {},
   "source": [
    "#### Datastore I/O"
   ]
  },
  {
   "cell_type": "code",
   "execution_count": null,
   "metadata": {},
   "outputs": [],
   "source": [
    "def read_images(path_to_images, image_names, mode=\"all\"):\n",
    "    \"\"\"Read images into an ndarray array\"\"\"\n",
    "\n",
    "    if mode == \"sample\":\n",
    "     n = 5\n",
    "    elif mode == \"all\":\n",
    "        n = len(image_names)\n",
    "    else:\n",
    "        raise Exception(\"Unknown mode selection. Select sample or all.\")\n",
    "    images = [None] * n\n",
    "    for i in range(0,n):\n",
    "        image = np.array( \n",
    "            Image.open( os.path.join(path_to_images,  image_names[i]) ) \n",
    "            )  \n",
    "        images[i] = np.flipud( image )\n",
    "    return images\n",
    "\n",
    "def read_datastore( path_to_images, mode=\"sample\"):\n",
    "    \"\"\"Read image datastore\"\"\"\n",
    "\n",
    "    image_metadata = datastore_metadata( path_to_images )\n",
    "    image_names = image_metadata[\"filename\"]\n",
    "    images = read_images(path_to_images, image_names, mode=mode)\n",
    "    return images\n",
    "\n",
    "def qc_maskdata( masks ):\n",
    "    for i in range( len(masks) ):\n",
    "        if len(masks[i].shape) > 2:\n",
    "            masks[i]=masks[i][:,:,0].astype( \"bool\" )\n",
    "    return masks"
   ]
  },
  {
   "cell_type": "markdown",
   "metadata": {},
   "source": [
    "#### Mineral map calcs"
   ]
  },
  {
   "cell_type": "code",
   "execution_count": null,
   "metadata": {},
   "outputs": [],
   "source": [
    "def mask_image( image ):\n",
    "    \"\"\"Mask background pixels of mineral map image\"\"\"\n",
    "    mask = np.all(image == (0,0,0), axis=-1)\n",
    "    image_masked = np.copy( image )\n",
    "    image_masked[mask,:]= [255, 255, 255]\n",
    "    return image_masked \n",
    "\n",
    "\n",
    "def identify_box( mask ):\n",
    "    \"\"\"Identify core box columns as mask\"\"\"\n",
    "    bg = np.sum(mask==False, axis=0) == mask.shape[0]\n",
    "    core_column = label( np.invert(bg) )\n",
    "    return core_column\n",
    "\n",
    "\n",
    "def segment_box( box, compartment_mask ):\n",
    "    \"\"\"Segment core box\"\"\" \n",
    "    n_column = np.max( np.unique(compartment_mask) )\n",
    "    n = n_column+1\n",
    "\n",
    "    array = [None] * n_column\n",
    "    for i in range(1,n):\n",
    "            array[i-1] = box[:, compartment_mask==i]\n",
    "    return array \n",
    "\n",
    "\n",
    "def get_core_pixel_counts( mask, core_compartment ):\n",
    "    \"\"\"Get core pixel count per row per compartment\"\"\"\n",
    "\n",
    "    compartments = segment_box( mask, core_compartment )\n",
    "\n",
    "    n_row = compartments[0].shape[0] \n",
    "    n_column = len(compartments)\n",
    "    n = n_column\n",
    "\n",
    "    column_pixel_counts = np.zeros( (n_row,n_column ) )\n",
    "    for j in range(0,n):\n",
    "        column_pixel_counts[:,j] = np.sum( compartments[j], axis=1 )\n",
    "    column_pixel_counts[column_pixel_counts==0] = np.nan\n",
    "    return column_pixel_counts\n",
    "\n",
    "\n",
    "def get_mineral_pixel_counts( image, mask, mineral_dictionary ):\n",
    "    \"\"\"Get all mineral pixel counts per row per compartment\"\"\"\n",
    "\n",
    "    # segment core box mask into columns / compartments \n",
    "    core_compartments = identify_box( mask )\n",
    "\n",
    "    # core pixel counts by row/compartment\n",
    "    column_pixel_counts = get_core_pixel_counts( mask, core_compartments )\n",
    "\n",
    "    # define tensor dimensions \n",
    "    n_row     = mask.shape[0] \n",
    "    n_column  = get_compartment_count( core_compartments )\n",
    "    n_mineral = len( mineral_dictionary )\n",
    "    n = n_column\n",
    "\n",
    "    mineral_pixel_counts = np.zeros( (n_row, n_column, n_mineral) )\n",
    "\n",
    "    #loop over minerals and core compartments \n",
    "    for k, (key,value) in enumerate( mineral_dictionary.items() ):\n",
    "        mineral = np.all(image == value, axis=-1)\n",
    "        compartments = segment_box( mineral, core_compartments )\n",
    "        for j in range(0, n):\n",
    "            mineral_pixel_counts[:,j,k] = np.sum(compartments[j],axis=1)\n",
    "    return mineral_pixel_counts\n",
    "\n",
    "def get_mineral_pixel_prc( mineral_pixel_counts, core_pixel_counts ):\n",
    "    \"\"\"Get all mineral pixel percentage per row per compartment\"\"\"\n",
    "    mineral_pixel_prc = mineral_pixel_counts / core_pixel_counts[:,:, np.newaxis]\n",
    "    return mineral_pixel_prc\n",
    "\n",
    "def tensor_to_matrix(mineral_tensor):\n",
    "    \"\"\"Convert mineral tensor to a mineral matrix\"\"\"\n",
    "    mineral_matrix = np.concatenate( mineral_tensor.transpose(1,0,2), axis=0)\n",
    "    return mineral_matrix  \n",
    "\n",
    "def get_compartment_count( compartment_mask ):\n",
    "    \"\"\"Number of core columns/compartments\"\"\"\n",
    "    n_compartment = np.max( np.unique( compartment_mask ) )\n",
    "    return n_compartment\n"
   ]
  },
  {
   "cell_type": "markdown",
   "metadata": {},
   "source": [
    "#### Transform"
   ]
  },
  {
   "cell_type": "code",
   "execution_count": null,
   "metadata": {},
   "outputs": [],
   "source": [
    "def get_core_compartments( image, mask, astype=\"image\" ):\n",
    "    \"\"\"Segment core box into array of core columns\"\"\"\n",
    "    core_compartments = identify_box( mask )\n",
    "    \n",
    "    if astype == \"image\":\n",
    "        array = segment_box( image, core_compartments )\n",
    "    elif astype == \"mask\":\n",
    "        array = segment_box( mask, core_compartments )\n",
    "    else:\n",
    "        array = None\n",
    "    return array \n",
    "\n",
    "def compartment_to_column( compartments ):\n",
    "    \"\"\"Convert core box compartments to column\"\"\"\n",
    "\n",
    "    nchannel = compartments[0].shape[2]\n",
    "    nrow     = compartments[0].shape[0]  \n",
    "    ncol     = np.array( [item.shape[1] for item in compartments] )\n",
    "\n",
    "    to_pad = max(ncol) - ncol\n",
    "\n",
    "    padded=[]\n",
    "    for (item, value) in zip(compartments,to_pad):\n",
    "        extra_left, extra_right=[\n",
    "            np.floor(value/2).astype(\"int\"),\n",
    "            np.ceil(value/2).astype(\"int\")\n",
    "            ]\n",
    "        array = np.pad(item,((0,0),(extra_left,extra_right),(0,0)), \n",
    "            mode=\"constant\", constant_values=255)\n",
    "        padded.append(array)\n",
    "    column = np.concatenate(padded, axis=0)\n",
    "    return column"
   ]
  },
  {
   "cell_type": "code",
   "execution_count": null,
   "metadata": {},
   "outputs": [],
   "source": [
    "def calc_cumulative_prc( mineral_prc_matrix ):\n",
    "    \"\"\"Calculate mineral cumulative percent per row. \n",
    "       Zero values assigned NaN. \n",
    "    \"\"\"\n",
    "    mineral_cumulprc = np.cumsum(mineral_prc_matrix, axis=1)\n",
    "    mineral_cumulprc[mineral_cumulprc==0] = np.nan\n",
    "    return mineral_cumulprc\n",
    "\n",
    "def transpose_and_invert(mineral_matrix, mineral_keys, mineral_colormap):\n",
    "   \"\"\"Transpose and invert matrix for composition plot\"\"\"\n",
    "   mineral_plot_matrix = np.flipud( mineral_matrix.transpose() )\n",
    "   mineral_colors = mineral_colormap[::-1]\n",
    "   mineral_legend = mineral_keys[::-1]\n",
    "   return mineral_plot_matrix, mineral_colors, mineral_legend\n",
    "\n",
    "def get_pixel_depth(mineral_matrix):\n",
    "    \"\"\"Core box column pixel depth\"\"\"\n",
    "    n_pixel = mineral_matrix.shape[0]\n",
    "    return n_pixel\n",
    "\n",
    "def box_fill( ax, pixel_depth, mineral_matrix, mineral_colors):\n",
    "   \"\"\"Create filled plot\"\"\" \n",
    "   for i,mineral in enumerate(mineral_matrix):\n",
    "       p = ax.fill_betweenx(pixel_depth, mineral, color=mineral_colors[i])\n",
    "\n",
    "def plot_box_composition( mineral_prc_matrix, mineral_keys, mineral_colormap ):\n",
    "    \"\"\"Plot core box mineral composition\"\"\"\n",
    "\n",
    "    mineral_cumulative = calc_cumulative_prc( mineral_prc_matrix )\n",
    "\n",
    "    n_pixel = get_pixel_depth(mineral_prc_matrix)\n",
    "    pixel_depth = np.arange(0,n_pixel)\n",
    "\n",
    "    mineral_plot_matrix, mineral_colors, mineral_legend = transpose_and_invert( mineral_cumulative, \n",
    "        mineral_keys, mineral_colormap)\n",
    "\n",
    "    fig, ax = plt.subplots(1,1, figsize=(4,12))\n",
    "    box_fill( ax, pixel_depth, mineral_plot_matrix, mineral_colors)\n",
    "    ax.invert_yaxis()\n",
    "    ax.legend(mineral_legend,loc='center left', bbox_to_anchor=(1, 0.5))\n",
    "    ax.set_xlabel(\"[%]\")\n",
    "    ax.set_ylabel(\"pixel depth\");"
   ]
  },
  {
   "cell_type": "markdown",
   "metadata": {},
   "source": [
    "#### Class"
   ]
  },
  {
   "cell_type": "code",
   "execution_count": null,
   "metadata": {},
   "outputs": [],
   "source": [
    "class HyperspecDatastore:\n",
    "    \"\"\"Import hyperspectral from datastore\"\"\"\n",
    "    def __init__(self, path_to_mineral, path_to_mask ):\n",
    "        \"\"\"ImportHyperspec constructor\"\"\"\n",
    "        self._active_index = 0 \n",
    "        self._problem_index = []\n",
    "        self._core_box_df = []\n",
    "        self._core_box_column = []\n",
    "        self.core_composition = []\n",
    "        self.core_column = []\n",
    "        self.core_df = []\n",
    "        self.minerals = []\n",
    "        self.masks = []\n",
    "        self.metadata = []\n",
    "        self.minerals_dictionary = []\n",
    "        self.minerals_colormap = []\n",
    "        self.path_to_mineral = path_to_mineral\n",
    "        self.path_to_mask = path_to_mask\n",
    "        \n",
    "    @property\n",
    "    def features(self):\n",
    "        return list(self.minerals_dictionary.keys())\n",
    "\n",
    "    def read_metadata(self):\n",
    "        \"\"\"Read metadata\"\"\"\n",
    "        mineralmap_metadata = datastore_metadata( self.path_to_mineral )\n",
    "        mask_metadata = datastore_metadata( self.path_to_mask )\n",
    "\n",
    "        mineralmap_metadata = mineralmap_metadata.rename(columns={\n",
    "            \"filename\": \"mineral_filename\",\n",
    "            })\n",
    "        mask_metadata = mask_metadata.rename(columns={\n",
    "            \"filename\": \"mask_filename\",\n",
    "            })\n",
    "\n",
    "        joining_variables = [\"core-id\", \"box-id\", \"depth-start\", \"depth-end\"]\n",
    "        metadata = mineralmap_metadata.merge(mask_metadata,\n",
    "            how = \"inner\", \n",
    "            left_on = joining_variables,\n",
    "            right_on = joining_variables)\n",
    "\n",
    "        this = metadata.pop( \"mineral_filename\" )\n",
    "        metadata.insert(metadata.columns.get_loc(\"mask_filename\"), \n",
    "            \"mineral_filename\", this)\n",
    "        metadata[\"box-id\"] = metadata[\"box-id\"].astype(\"int64\")\n",
    "        metadata = metadata.set_index(\"box-id\")\n",
    "        self.metadata = metadata\n",
    "\n",
    "    def read_legend(self):\n",
    "        \"\"\"Read legend containing mineral map color scheme.\"\"\"\n",
    "        legend = np.array( \n",
    "            Image.open( os.path.join(self.path_to_mineral, \"..\" ,  \"mineral-legend.png\") ) \n",
    "            )\n",
    "        points_to_sample =np.array([\n",
    "            [17,86],\n",
    "            [17, 112],\n",
    "            [17,136],\n",
    "            [17,158],\n",
    "            [17,184],\n",
    "            [17,209],\n",
    "            [17,235],\n",
    "            ])\n",
    "        mineral_keys = [\n",
    "            \"illite\",\n",
    "            \"illite-smectite\",\n",
    "            \"low-reflectance\",\n",
    "            \"montmorillonite\",\n",
    "            \"other\",\n",
    "            \"smectite-kaolinite\",\n",
    "            \"smectite-saponite\",\n",
    "            ]\n",
    "        pixel_values = []\n",
    "        pixel_values_scaled = [] \n",
    "        for row in points_to_sample:\n",
    "            value = legend[row[1],row[0]][:3]\n",
    "            pixel_values.append( tuple(value) )\n",
    "            pixel_values_scaled.append( tuple(value/255) )\n",
    "        pixel_values\n",
    "        mineral_categories = dict( zip(mineral_keys, pixel_values) )\n",
    "        self.minerals_dictionary = mineral_categories\n",
    "        self.minerals_colormap = pixel_values_scaled\n",
    "\n",
    "    def read(self, mode=\"all\"):\n",
    "        \"\"\"Read datastore\"\"\"\n",
    "        #read/construct metadata\n",
    "        self.read_metadata()\n",
    "        #read mineralmap color scheme\n",
    "        self.read_legend()\n",
    "        #read minerals\n",
    "        image_names = self.metadata[\"mineral_filename\"].values\n",
    "        self.minerals = np.array( read_images(self.path_to_mineral, image_names, mode=mode ), dtype=\"object\" )\n",
    "        #read masks \n",
    "        image_names = self.metadata[\"mask_filename\"].values\n",
    "        self.masks  = np.array( qc_maskdata( read_images(self.path_to_mask, image_names, mode=mode ) ), dtype=\"object\" )\n",
    "\n",
    "    def run_feature_extraction(self):\n",
    "        \"\"\"TODO Doc\"\"\"\n",
    "        n = len(self.minerals)\n",
    "        self._problem_index = []\n",
    "        features = []\n",
    "        for i in range( n ):\n",
    "            self._active_index = i\n",
    "            self.get_metrics()\n",
    "            if len(self._core_box_df)==0:\n",
    "                self._problem_index.append(i)\n",
    "            features.append(self._core_box_df)\n",
    "        self.core_df = pd.concat( features ).set_index(\"box-id\")\n",
    "\n",
    "    def run_corecolumn(self):\n",
    "        \"\"\"TODO Doc\"\"\"\n",
    "        n = len(self.minerals)\n",
    "        columns = []\n",
    "        for i in range( n ):\n",
    "            self._active_index = i\n",
    "            self.get_core_box_column()\n",
    "            columns.append( self._core_box_column  )\n",
    "        self.core_column = compartment_to_column( columns )\n",
    "\n",
    "    def run_composition(self):\n",
    "        \"\"\"TODO Doc\"\"\"\n",
    "        self.core_composition = self.get_composition()\n",
    "\n",
    "    def to_csv(self, path_to_data=\"\" ):\n",
    "        \"\"\"TODO Doc\"\"\"\n",
    "        self.core_df.to_csv( path_to_data, index=False )\n",
    "\n",
    "    def get_metrics(self):\n",
    "        \"\"\"Calculate mineral map metrics\"\"\"\n",
    "        mineral = mask_image( self.minerals[self._active_index] )\n",
    "        mask    = self.masks[ self._active_index ]\n",
    "        #identify core compartments\n",
    "        core_compartments = identify_box( mask )\n",
    "        #core pixel counts \n",
    "        core_pixel_counts = get_core_pixel_counts( \n",
    "            mask, \n",
    "            core_compartments )\n",
    "        #mineral composition \n",
    "        try:\n",
    "            #mineral pixel counts \n",
    "            mineral_pixel_counts = get_mineral_pixel_counts( \n",
    "                mineral, \n",
    "                mask, \n",
    "                self.minerals_dictionary)\n",
    "\n",
    "            # mineral pixel prc\n",
    "            mineral_pixel_prc = get_mineral_pixel_prc( \n",
    "                mineral_pixel_counts, \n",
    "                core_pixel_counts )\n",
    "\n",
    "            # mineral metric curves\n",
    "            mineral_metrics = tensor_to_matrix( mineral_pixel_prc )\n",
    "        except:\n",
    "            df = pd.DataFrame()\n",
    "        else:\n",
    "            # create core_box\n",
    "            df = pd.DataFrame( \n",
    "                mineral_metrics, \n",
    "                columns=self.minerals_dictionary.keys() )\n",
    "\n",
    "            core_box         = self.metadata.index[self._active_index]\n",
    "            core_start_depth = self.metadata[\"depth-start\"].iloc[self._active_index]\n",
    "            core_end_depth   = self.metadata[\"depth-end\"].iloc[self._active_index]\n",
    "            n_pixels = df.shape[0]\n",
    "\n",
    "            #TODO revisit and calculate resolution \n",
    "            core_depth = np.linspace(\n",
    "                core_start_depth, \n",
    "                core_end_depth, \n",
    "                n_pixels)\n",
    "            df.insert(0, \n",
    "                \"core_depth\", core_depth)\n",
    "            df.insert(0, \n",
    "                \"box-id\",\n",
    "                np.ones((df.shape[0],1), dtype=\"int64\")*core_box)\n",
    "        self._core_box_df = df\n",
    "\n",
    "    def get_core_box_column(self):\n",
    "        \"\"\"TODO Doc\"\"\"\n",
    "        mineral = mask_image( self.minerals[self._active_index] )\n",
    "        mask    = self.masks[ self._active_index ]\n",
    "        compartments = get_core_compartments(mineral, mask)\n",
    "        core_column = compartment_to_column( compartments )\n",
    "        self._core_box_column = core_column\n",
    "\n",
    "    def get_core_bound(self, box_id=None):\n",
    "        \"\"\"Get core depth start and end\"\"\"\n",
    "        if box_id is None:\n",
    "            df = self.core_df\n",
    "        else:\n",
    "            df = self.core_df.loc[box_id,:]\n",
    "        core_start = df.iloc[0, df.columns.get_loc(\"core_depth\")]\n",
    "        core_end   = df.iloc[df.shape[0]-1, df.columns.get_loc(\"core_depth\")]\n",
    "        return core_start, core_end \n",
    "\n",
    "    def get_composition(self, box_id=None):\n",
    "        \"\"\"TODO Doc\"\"\"\n",
    "        if box_id is None:\n",
    "            mineral_matrix = self.core_df.loc[:,self.features].to_numpy()\n",
    "        else:\n",
    "            mineral_matrix = self.core_df.loc[box_id,self.features].to_numpy()\n",
    "        mineral_matrix = calc_cumulative_prc(mineral_matrix)\n",
    "        return mineral_matrix\n",
    "\n",
    "    def plot_core_box(self, box_id, ptype=\"minerals\"):\n",
    "        \"\"\"Preview core box image array\"\"\"\n",
    "        images = getattr(self, ptype)\n",
    "        images = images[box_id]\n",
    "        n = len(images)\n",
    "        fig, ax  = plt.subplots(1,n, figsize=(18,12))\n",
    "        for item,image in zip(ax,images):\n",
    "            item.imshow(image, interpolation=\"none\")\n",
    "\n",
    "    def plot_core_column(self, ax=None):\n",
    "        \"\"\"Plot core box column\"\"\"\n",
    "        core_start, core_end = self.get_core_bound()\n",
    "        if ax is None:\n",
    "            fig, ax  = plt.subplots(1,1, figsize=(18,12))\n",
    "        ax.imshow(ds.core_column, interpolation=\"none\", aspect=.25, extent=[0,50,core_end,core_start])\n",
    "        ax.set_ylabel(\"core depth\")\n",
    "\n",
    "    def plot_core_composition(self, ax=None):\n",
    "        \"\"\"TODO Doc\"\"\"\n",
    "        if ax is None:\n",
    "            fig, ax = plt.subplots(1,1, figsize=(4,12))\n",
    "        self._plot_composition_helper( ax)\n",
    "\n",
    "    def plot_core_features(self, minimap=False, comp=False):\n",
    "        \"\"\"TODO Doc\"\"\"\n",
    "        n_element = len(self.features)\n",
    "\n",
    "        if minimap and comp:\n",
    "            fig, ax = plt.subplots(1,n_element+2, figsize=(18,12), sharey=True)  \n",
    "            ax_vector = ax[2:]\n",
    "            index = 1\n",
    "        elif minimap or comp:\n",
    "            fig, ax = plt.subplots(1,n_element+1, figsize=(18,12), sharey=True)  \n",
    "            ax_vector = ax[1:]\n",
    "            index = 0\n",
    "        else:\n",
    "            fig, ax = plt.subplots(1,n_element, figsize=(18,12), sharey=True)\n",
    "            ax_vector = ax\n",
    "\n",
    "        invert_axis = True\n",
    "        if minimap:\n",
    "            invert_axis = False\n",
    "\n",
    "        if minimap == True:\n",
    "            self.plot_core_column( ax=ax[0] )\n",
    "        if comp == True:\n",
    "            self.plot_core_composition( ax=ax[index] )\n",
    "            ax[index].legend(self.features[::-1],loc='center left', bbox_to_anchor=(0, -0.15))\n",
    "        self._plot_core_helper( ax_vector )\n",
    "        if invert_axis:\n",
    "            ax[0].invert_yaxis()\n",
    "        ax[0].set_ylabel( \"core depth\" )\n",
    "        return ax\n",
    "\n",
    "    def plot_core_box_composition(self, box_id, ax=None):\n",
    "        \"\"\"TODO Doc\"\"\"\n",
    "        mineral_matrix = self.get_composition( box_id )\n",
    "        mineral_stack, mcolors, mlegend = transpose_and_invert(\n",
    "            mineral_matrix, \n",
    "            self.features, \n",
    "            self.minerals_colormap)\n",
    "        #establish core depth vector \n",
    "        n_pixel = get_pixel_depth(mineral_matrix)\n",
    "        core_start, core_end = self.get_core_bound( box_id=box_id)\n",
    "        core_depth = np.linspace(\n",
    "                core_start, \n",
    "                core_end, \n",
    "                n_pixel)\n",
    "        if ax is None:\n",
    "            fig, ax = plt.subplots(1,1, figsize=(4,12))\n",
    "        box_fill( ax, core_depth, mineral_stack, mcolors)\n",
    "        ax.set_xlabel(\"[%]\")\n",
    "\n",
    "    def plot_core_box_features( self, box_id, minimap=False, comp=False ):\n",
    "        \"\"\"Plot mineral features\"\"\"\n",
    "        n_element = len(self.features)\n",
    "        \n",
    "        if minimap and comp:\n",
    "            fig, ax = plt.subplots(1,n_element+2, figsize=(18,12), sharey=True)  \n",
    "            ax_vector = ax[2:]\n",
    "            index = 1\n",
    "        elif minimap or comp:\n",
    "            fig, ax = plt.subplots(1,n_element+1, figsize=(18,12), sharey=True)  \n",
    "            ax_vector = ax[1:]\n",
    "            index = 0\n",
    "        else:\n",
    "            fig, ax = plt.subplots(1,n_element, figsize=(18,12), sharey=True)\n",
    "            ax_vector = ax\n",
    "\n",
    "        invert_axis = True\n",
    "        if minimap:\n",
    "            invert_axis = False\n",
    "\n",
    "        if minimap==True:\n",
    "            core_start, core_end = self.get_core_bound( box_id=box_id)\n",
    "            n = len(box_id)\n",
    "            columns = []\n",
    "            for i in range( n ):\n",
    "                self._active_index = box_id[i]-1\n",
    "                self.get_core_box_column()\n",
    "                columns.append( self._core_box_column  )\n",
    "                core_column = compartment_to_column( columns )\n",
    "            ax[0].imshow(core_column, interpolation=\"none\", aspect=50, extent=[0,50,core_end,core_start])\n",
    "        if comp==True:\n",
    "            self.plot_core_box_composition(box_id = box_id, ax=ax[index])\n",
    "            ax[index].legend(self.features[::-1],loc='center left', bbox_to_anchor=(0, -0.15))\n",
    "        self._plot_core_helper( ax_vector, box_id = box_id )\n",
    "        if invert_axis:\n",
    "            ax[0].invert_yaxis()\n",
    "        ax[0].set_ylabel( \"core depth\" )\n",
    "        return ax\n",
    "\n",
    "    def _plot_core_helper(self, ax, box_id=None):\n",
    "        \"\"\"TODO Doc\"\"\"\n",
    "        if box_id is None:\n",
    "            minerals = self.core_df.loc[:,self.features]\n",
    "            core_depth = self.core_df[\"core_depth\"]\n",
    "        else:\n",
    "            minerals = self.core_df.loc[box_id,self.features]\n",
    "            core_depth = self.core_df.loc[box_id,\"core_depth\"]\n",
    "        mineral_keys = minerals.columns.values\n",
    "        for i in range( len(ax) ):\n",
    "                mineral = minerals.loc[:,mineral_keys[i]]\n",
    "                ax[i].plot(mineral, core_depth)\n",
    "                ax[i].set_title(mineral_keys[i])\n",
    "\n",
    "    def _plot_composition_helper(self, ax, box_id=None):\n",
    "        \"\"\"TODO Doc\"\"\"\n",
    "        if box_id is None:\n",
    "            if len(self.core_composition) == 0:\n",
    "                self.calculate_composition()\n",
    "            mineral_matrix = self.core_composition\n",
    "        else:\n",
    "            mineral_matrix = self.get_composition(box_id = box_id)\n",
    "        mineral_stack, mcolors, mlegend = transpose_and_invert(\n",
    "            mineral_matrix, \n",
    "            self.features, \n",
    "            self.minerals_colormap)\n",
    "        #establish core depth vector \n",
    "        n_pixel = get_pixel_depth(mineral_matrix)\n",
    "        core_start, core_end = self.get_core_bound( box_id=box_id )\n",
    "        core_depth = np.linspace(\n",
    "                core_start, \n",
    "                core_end, \n",
    "                n_pixel)\n",
    "        box_fill( ax, core_depth, mineral_stack, mcolors)\n",
    "        ax.set_xlabel(\"[%]\")\n",
    "\n",
    "    @classmethod\n",
    "    def read_ds( cls, path_to_mineral, path_to_mask, mode=\"all\" ):\n",
    "        \"\"\"Read hyperspectral datastore\"\"\"\n",
    "        ds = cls(path_to_mineral, path_to_mask)\n",
    "        ds.read(mode=mode)\n",
    "        return ds\n"
   ]
  },
  {
   "cell_type": "markdown",
   "metadata": {},
   "source": [
    "# Workflow"
   ]
  },
  {
   "cell_type": "markdown",
   "metadata": {},
   "source": [
    "## Configure"
   ]
  },
  {
   "cell_type": "code",
   "execution_count": 1,
   "metadata": {},
   "outputs": [],
   "source": [
    "path_to_data    = \"../../data/cmm-111C-coremask-mineralmap/\"\n",
    "path_to_mineral = os.path.join(path_to_data, \"borehole-mineral-map\")\n",
    "path_to_mask    = os.path.join(path_to_data, \"core-mask\")"
   ]
  },
  {
   "cell_type": "markdown",
   "metadata": {},
   "source": [
    "## Read mineral map datastore"
   ]
  },
  {
   "cell_type": "markdown",
   "metadata": {},
   "source": [
    "Read the mineral map and core mask datastore into Hyperspectral datastore object. This object extracts core mineral composition [%] from the TerraCore mineral map images and converts these data into a tubular format for machine learning. There are methods to visualize the data at the core box and full-core scale. "
   ]
  },
  {
   "cell_type": "code",
   "execution_count": null,
   "metadata": {},
   "outputs": [],
   "source": [
    "ds = HyperspecDatastore.read_ds(path_to_mineral, path_to_mask, mode=\"all\")\n"
   ]
  },
  {
   "cell_type": "markdown",
   "metadata": {},
   "source": [
    "Preview datastore metadata "
   ]
  },
  {
   "cell_type": "code",
   "execution_count": null,
   "metadata": {},
   "outputs": [],
   "source": [
    "ds.metadata"
   ]
  },
  {
   "cell_type": "markdown",
   "metadata": {},
   "source": [
    "Number of core boxes in datastore"
   ]
  },
  {
   "cell_type": "code",
   "execution_count": null,
   "metadata": {},
   "outputs": [],
   "source": [
    "len(ds.minerals)"
   ]
  },
  {
   "cell_type": "markdown",
   "metadata": {},
   "source": [
    "Preview core boxes by box-id."
   ]
  },
  {
   "cell_type": "code",
   "execution_count": null,
   "metadata": {},
   "outputs": [],
   "source": [
    "ds.plot_core_box( box_id=[0,1]) "
   ]
  },
  {
   "cell_type": "markdown",
   "metadata": {},
   "source": [
    "## Extract features \n"
   ]
  },
  {
   "cell_type": "code",
   "execution_count": null,
   "metadata": {},
   "outputs": [],
   "source": [
    "ds.run_feature_extraction()"
   ]
  },
  {
   "cell_type": "markdown",
   "metadata": {},
   "source": [
    "The mineral features are percentage occurrences per depth. There is a corresponding box id. "
   ]
  },
  {
   "cell_type": "code",
   "execution_count": null,
   "metadata": {},
   "outputs": [],
   "source": [
    "ds.core_df.loc[1].iloc[10:20]"
   ]
  },
  {
   "cell_type": "markdown",
   "metadata": {},
   "source": [
    "List of features"
   ]
  },
  {
   "cell_type": "code",
   "execution_count": null,
   "metadata": {},
   "outputs": [],
   "source": [
    "ds.features "
   ]
  },
  {
   "cell_type": "markdown",
   "metadata": {},
   "source": [
    "Convert the core box images into a core column."
   ]
  },
  {
   "cell_type": "code",
   "execution_count": null,
   "metadata": {},
   "outputs": [],
   "source": [
    "ds.run_corecolumn()"
   ]
  },
  {
   "cell_type": "markdown",
   "metadata": {},
   "source": [
    "Calculate cumulative composition for the mineral assemblage."
   ]
  },
  {
   "cell_type": "code",
   "execution_count": null,
   "metadata": {},
   "outputs": [],
   "source": [
    "ds.run_composition()"
   ]
  },
  {
   "cell_type": "markdown",
   "metadata": {},
   "source": [
    "## Visualize"
   ]
  },
  {
   "cell_type": "markdown",
   "metadata": {},
   "source": [
    "### Full Core"
   ]
  },
  {
   "cell_type": "markdown",
   "metadata": {},
   "source": [
    "Plot of the full length core mineral assemblage with: core minimap, cumulative composition, and percent occurrence for each mineral type.   "
   ]
  },
  {
   "cell_type": "code",
   "execution_count": null,
   "metadata": {},
   "outputs": [],
   "source": [
    "ax = ds.plot_core_features(minimap=True, comp=True)"
   ]
  },
  {
   "cell_type": "markdown",
   "metadata": {},
   "source": [
    "Customize the plot by specifying whether to include the minimap or composition. "
   ]
  },
  {
   "cell_type": "code",
   "execution_count": null,
   "metadata": {},
   "outputs": [],
   "source": [
    "ax = ds.plot_core_features(minimap=True, comp=False)"
   ]
  },
  {
   "cell_type": "markdown",
   "metadata": {},
   "source": [
    "### Core box"
   ]
  },
  {
   "cell_type": "markdown",
   "metadata": {},
   "source": [
    "Specify core box id(s) to view specific sections of the core.  "
   ]
  },
  {
   "cell_type": "code",
   "execution_count": null,
   "metadata": {},
   "outputs": [],
   "source": [
    "ax = ds.plot_core_box_features( box_id=[25], minimap=True, comp=True )"
   ]
  },
  {
   "cell_type": "markdown",
   "metadata": {},
   "source": [
    "A second core box."
   ]
  },
  {
   "cell_type": "code",
   "execution_count": null,
   "metadata": {},
   "outputs": [],
   "source": [
    "ax = ds.plot_core_box_features( box_id=[2], minimap=False, comp=True )"
   ]
  },
  {
   "cell_type": "markdown",
   "metadata": {},
   "source": [
    "Specify a range of core box id. "
   ]
  },
  {
   "cell_type": "code",
   "execution_count": null,
   "metadata": {},
   "outputs": [],
   "source": [
    "ax = ds.plot_core_box_features( box_id=range(75,81), minimap=False, comp=True )"
   ]
  },
  {
   "cell_type": "markdown",
   "metadata": {},
   "source": [
    "Mineral Map Legend "
   ]
  },
  {
   "cell_type": "code",
   "execution_count": null,
   "metadata": {},
   "outputs": [],
   "source": [
    "legend = np.array( \n",
    "    Image.open( os.path.join(path_to_data, \"mineral-legend.png\") ) \n",
    "    )\n",
    "fig, ax  = plt.subplots(1,1, figsize=(18,12))\n",
    "ax.imshow(legend)"
   ]
  },
  {
   "cell_type": "markdown",
   "metadata": {},
   "source": [
    "## Export \n",
    "\n",
    "Export the tabular mineral features to data products directory."
   ]
  },
  {
   "cell_type": "code",
   "execution_count": null,
   "metadata": {},
   "outputs": [],
   "source": [
    "fullpath_to_product = \"../../data-products/mineral-map-features-cmm11.csv\"\n",
    "ds.to_csv( fullpath_to_product )"
   ]
  },
  {
   "cell_type": "markdown",
   "metadata": {},
   "source": [
    "## Prototype / Debugging"
   ]
  },
  {
   "cell_type": "markdown",
   "metadata": {},
   "source": [
    "#### Corner case "
   ]
  },
  {
   "cell_type": "markdown",
   "metadata": {},
   "source": [
    "Note that core box 25 is a corner case. On import using Pillow the mask has three channels and is type uint8 instead of boolean. This is handled in qc_masks method. "
   ]
  },
  {
   "cell_type": "code",
   "execution_count": null,
   "metadata": {},
   "outputs": [],
   "source": [
    "ds.core_df.loc[25,:]"
   ]
  },
  {
   "cell_type": "code",
   "execution_count": null,
   "metadata": {},
   "outputs": [],
   "source": [
    "ds.metadata.loc[25,:]"
   ]
  },
  {
   "cell_type": "markdown",
   "metadata": {},
   "source": [
    "Kernel probability density"
   ]
  },
  {
   "cell_type": "code",
   "execution_count": null,
   "metadata": {},
   "outputs": [],
   "source": [
    "box = ds.core_df.loc[[2,25],:]\n",
    "box=box.reset_index()\n",
    "box[\"box-id\"] = box[\"box-id\"].astype(\"category\")"
   ]
  },
  {
   "cell_type": "code",
   "execution_count": null,
   "metadata": {},
   "outputs": [],
   "source": [
    "ax = sns.kdeplot(\n",
    "    data   = box, \n",
    "    x      = \"illite-smectite\", \n",
    "    y      = \"montmorillonite\", \n",
    "    hue    = \"box-id\", \n",
    "    levels = np.arange(.2,1.2,.2),\n",
    "    fill=True,\n",
    "    cut=0\n",
    "    )\n",
    "ax.set_title(\"Core mineral composition\");"
   ]
  }
 ],
 "metadata": {
  "interpreter": {
   "hash": "ad875439fe4cca5dfbe59c29354265e5d729e7deb437e6f5c036524a379d2d50"
  },
  "kernelspec": {
   "display_name": "Python 3.8.12 64-bit ('minalyze': conda)",
   "language": "python",
   "name": "python3"
  },
  "language_info": {
   "codemirror_mode": {
    "name": "ipython",
    "version": 3
   },
   "file_extension": ".py",
   "mimetype": "text/x-python",
   "name": "python",
   "nbconvert_exporter": "python",
   "pygments_lexer": "ipython3",
   "version": "3.8.12"
  },
  "orig_nbformat": 4
 },
 "nbformat": 4,
 "nbformat_minor": 2
}
